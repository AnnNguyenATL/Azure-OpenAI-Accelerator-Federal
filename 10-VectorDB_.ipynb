{
  "cells": [
    {
      "cell_type": "markdown",
      "metadata": {},
      "source": [
        "# Writing data to the Vector Database"
      ]
    },
    {
      "cell_type": "markdown",
      "metadata": {
        "nteract": {
          "transient": {
            "deleting": false
          }
        }
      },
      "source": [
        "Prerequites:\n",
        "\n",
        "1. This notebook assumes you have a Weaviate instance running. https://weaviate.io/developers/weaviate/installation\n",
        "2. Have a commercial Azure openAI endpoint provisioned and model deployed. \n",
        "\n",
        "This demo takes a locally stored txt file, splits it, and writes to weaviate given an embedding.\n",
        "\n",
        "Below are a list of necessary packages:\n",
        "- weviate-client is for connecting to weaviate from python. \n",
        "- tiktoken is a dependancy for OpenAIEmbeddings.\n",
        "- openai is for connecting to your AOAI instance.\n",
        "- langchain is a language model integration framework. "
      ]
    },
    {
      "cell_type": "code",
      "execution_count": null,
      "metadata": {},
      "outputs": [],
      "source": [
        "%pip install weaviate-client\n",
        "%pip install tiktoken\n",
        "%pip install openai[datalib]\n",
        "%pip install langchain"
      ]
    },
    {
      "cell_type": "code",
      "execution_count": null,
      "metadata": {
        "gather": {
          "logged": 1690829553345
        },
        "jupyter": {
          "outputs_hidden": false,
          "source_hidden": false
        },
        "nteract": {
          "transient": {
            "deleting": false
          }
        }
      },
      "outputs": [],
      "source": [
        "from langchain.text_splitter import CharacterTextSplitter\n",
        "from langchain.document_loaders import TextLoader\n",
        "\n",
        "loader = TextLoader(\"PATH TO YOUR TEXT FILE\")\n",
        "documents = loader.load()\n",
        "text_splitter = CharacterTextSplitter(chunk_size=100, chunk_overlap=0)\n",
        "docs = text_splitter.split_documents(documents)"
      ]
    },
    {
      "cell_type": "markdown",
      "metadata": {},
      "source": [
        "Setting our embedding parameters. "
      ]
    },
    {
      "cell_type": "code",
      "execution_count": null,
      "metadata": {},
      "outputs": [],
      "source": [
        "from langchain.embeddings.openai import OpenAIEmbeddings\n",
        "\n",
        "\n",
        "embeddings = OpenAIEmbeddings(\n",
        "    deployment=\"textembedding\",\n",
        "    model=\"text-embedding-ada-002\",\n",
        "    openai_api_base=\"https://aoaivbd.openai.azure.com/\",\n",
        "    openai_api_type=\"azure\",\n",
        "    openai_api_key=\"7ad1367445ed4388932ac7c5edd32dd0\"\n",
        ")"
      ]
    },
    {
      "cell_type": "markdown",
      "metadata": {
        "nteract": {
          "transient": {
            "deleting": false
          }
        }
      },
      "source": [
        "Note: To use internal IP of the VM hosting docker instance compute instance has to be in same vnet"
      ]
    },
    {
      "cell_type": "markdown",
      "metadata": {
        "nteract": {
          "transient": {
            "deleting": false
          }
        }
      },
      "source": [
        "Write your split text file to Weaviate using Langchains integration. "
      ]
    },
    {
      "cell_type": "code",
      "execution_count": null,
      "metadata": {
        "gather": {
          "logged": 1690829564389
        },
        "jupyter": {
          "outputs_hidden": false,
          "source_hidden": false
        },
        "nteract": {
          "transient": {
            "deleting": false
          }
        }
      },
      "outputs": [],
      "source": [
        "import weaviate\n",
        "\n",
        "WEAVIATE_URL = \"http://10.244.3.3:8080\"\n",
        "WEAVIATE_API_KEY = \"TJVA95OrM7E20RMHrHDcEfxjoYZgeFONFh7HgQ\"\n",
        "\n",
        "client = weaviate.Client(url=WEAVIATE_URL, auth_client_secret=weaviate.AuthApiKey(WEAVIATE_API_KEY))\n",
        "vectorstore = Weaviate.from_documents(docs, embeddings, client=client, by_text=False)"
      ]
    },
    {
      "cell_type": "code",
      "execution_count": null,
      "metadata": {},
      "outputs": [],
      "source": []
    }
  ],
  "metadata": {
    "kernel_info": {
      "name": "python3"
    },
    "kernelspec": {
      "display_name": "Python 3 (ipykernel)",
      "language": "python",
      "name": "python3"
    },
    "language_info": {
      "codemirror_mode": {
        "name": "ipython",
        "version": 3
      },
      "file_extension": ".py",
      "mimetype": "text/x-python",
      "name": "python",
      "nbconvert_exporter": "python",
      "pygments_lexer": "ipython3",
      "version": "3.11.4"
    },
    "microsoft": {
      "host": {
        "AzureML": {
          "notebookHasBeenCompleted": true
        }
      },
      "ms_spell_check": {
        "ms_spell_check_language": "en"
      }
    },
    "nteract": {
      "version": "nteract-front-end@1.0.0"
    }
  },
  "nbformat": 4,
  "nbformat_minor": 2
}
