{
  "cells": [
    {
      "cell_type": "markdown",
      "metadata": {},
      "source": [
        "# Writing data to the Vector Database"
      ]
    },
    {
      "cell_type": "markdown",
      "metadata": {
        "nteract": {
          "transient": {
            "deleting": false
          }
        }
      },
      "source": [
        "Prerequites:\n",
        "\n",
        "1. This notebook assumes you have a Weaviate instance running. https://weaviate.io/developers/weaviate/installation\n",
        "2. Have a commercial Azure openAI endpoint provisioned and model deployed. \n",
        "\n",
        "This demo takes a locally stored txt file, splits it, and writes to weaviate given an embedding.\n",
        "\n",
        "Below are a list of necessary packages:\n",
        "- weviate-client is for connecting to weaviate from python. \n",
        "- tiktoken is a dependancy for OpenAIEmbeddings.\n",
        "- openai is for connecting to your AOAI instance.\n",
        "- langchain is a language model integration framework. "
      ]
    },
    {
      "cell_type": "code",
      "execution_count": null,
      "metadata": {},
      "outputs": [],
      "source": [
        "%pip install weaviate-client\n",
        "%pip install tiktoken\n",
        "%pip install openai[datalib]\n",
        "%pip install langchain\n",
        "%pip install pymupdf"
      ]
    },
    {
      "cell_type": "markdown",
      "metadata": {},
      "source": [
        "## Load Data from archive pdfs from blob storage"
      ]
    },
    {
      "cell_type": "code",
      "execution_count": null,
      "metadata": {},
      "outputs": [],
      "source": [
        "BLOB_CONNECTION_STRING=\"DefaultEndpointsProtocol=https;AccountName=demodatasetsp;AccountKey=QVFgIKPiWB+8f0mH+F7fidVLG7wq1S3WhtAqXOWaMWtr6fZ4frhVgmUzgBSdkmw4VsjoEAo7C2Hn+ASt2Cc5HA==;EndpointSuffix=core.windows.net\"\n",
        "BLOB_SAS_TOKEN=\"?sv=2022-11-02&ss=bf&srt=sco&sp=rltfx&se=2024-10-02T01:02:07Z&st=2023-08-03T17:02:07Z&spr=https&sig=gLxStXFSY6X29OPpPDpBEhoQDdtJNDrMVExNYJ%2BhmBQ%3D\"\n",
        "BLOB_CONTAINER_NAME = \"arxivcs\""
      ]
    },
    {
      "cell_type": "code",
      "execution_count": null,
      "metadata": {},
      "outputs": [],
      "source": [
        "%pip install unstructured\n",
        "%pip install \"unstructured[pdf]\""
      ]
    },
    {
      "cell_type": "code",
      "execution_count": null,
      "metadata": {},
      "outputs": [],
      "source": [
        "#this will load a single pdf\n",
        "# from langchain.document_loaders import AzureBlobStorageFileLoader\n",
        "\n",
        "# loader = AzureBlobStorageFileLoader(\n",
        "#     conn_str=BLOB_CONNECTION_STRING,\n",
        "#     container=BLOB_CONTAINER_NAME,\n",
        "#     blob_name=\"0001/0001001v1.pdf\",\n",
        "# )\n",
        "\n",
        "# docs = loader.load()"
      ]
    },
    {
      "cell_type": "code",
      "execution_count": null,
      "metadata": {},
      "outputs": [],
      "source": [
        "#loads the first 10000 pdfs from arxivcs container. To load more will need to do 001, then 01\n",
        "\n",
        "from langchain.document_loaders import AzureBlobStorageContainerLoader\n",
        "\n",
        "loader = AzureBlobStorageContainerLoader(\n",
        "    conn_str=BLOB_CONNECTION_STRING,\n",
        "    container=BLOB_CONTAINER_NAME,\n",
        "    prefix=\"000\"\n",
        "    )\n",
        "    \n",
        "docs = loader.load()"
      ]
    },
    {
      "cell_type": "markdown",
      "metadata": {},
      "source": [
        "## Setting our embedding parameters. "
      ]
    },
    {
      "cell_type": "code",
      "execution_count": null,
      "metadata": {},
      "outputs": [],
      "source": [
        "from langchain.embeddings.openai import OpenAIEmbeddings\n",
        "\n",
        "#chuck size is set to max of 16 to satisfy API restrictions\n",
        "embeddings = OpenAIEmbeddings(\n",
        "    deployment=\"textembedding\",\n",
        "    model=\"text-embedding-ada-002\",\n",
        "    openai_api_base=\"https://aoaivbd.openai.azure.com/\",\n",
        "    openai_api_type=\"azure\",\n",
        "    openai_api_key=\"7ad1367445ed4388932ac7c5edd32dd0\",\n",
        "    chunk_size = 16\n",
        ")"
      ]
    },
    {
      "cell_type": "markdown",
      "metadata": {},
      "source": [
        "## Write to authenticated Weaviate"
      ]
    },
    {
      "cell_type": "markdown",
      "metadata": {
        "nteract": {
          "transient": {
            "deleting": false
          }
        }
      },
      "source": [
        "Note: To use internal IP of the VM hosting docker instance compute instance has to be in same vnet. \n",
        "Example: https://10.0.0.4:8080\n",
        "\n",
        "For an AKS cluster navigate to the resource->services and ingresses->click on your weaviate service-> use the endpoint which will look like the example above"
      ]
    },
    {
      "cell_type": "code",
      "execution_count": null,
      "metadata": {
        "gather": {
          "logged": 1690829564389
        },
        "jupyter": {
          "outputs_hidden": false,
          "source_hidden": false
        },
        "nteract": {
          "transient": {
            "deleting": false
          }
        }
      },
      "outputs": [],
      "source": [
        "import weaviate\n",
        "\n",
        "WEAVIATE_URL = \"http://10.244.3.20:8080\"\n",
        "WEAVIATE_API_KEY = \"TJVA95OrM7E20RMHrHDcEfxjoYZgeFONFh7HgQ\"\n",
        "\n",
        "client = weaviate.Client(url=WEAVIATE_URL, auth_client_secret=weaviate.AuthApiKey(WEAVIATE_API_KEY))\n",
        "vectorstore = Weaviate.from_documents(docs, embeddings, client=client, by_text=False)"
      ]
    },
    {
      "cell_type": "code",
      "execution_count": null,
      "metadata": {},
      "outputs": [],
      "source": [
        "# Add Query to Verify, need to expand further and use the data with LLM\n",
        "query = \"What do you know about Quantom Mechanics\"\n",
        "doc_queried = vectorstore.similarity_search(query)\n",
        "doc_queried"
      ]
    }
  ],
  "metadata": {
    "kernel_info": {
      "name": "python3"
    },
    "kernelspec": {
      "display_name": "Python 3 (ipykernel)",
      "language": "python",
      "name": "python3"
    },
    "language_info": {
      "codemirror_mode": {
        "name": "ipython",
        "version": 3
      },
      "file_extension": ".py",
      "mimetype": "text/x-python",
      "name": "python",
      "nbconvert_exporter": "python",
      "pygments_lexer": "ipython3",
      "version": "3.11.4"
    },
    "microsoft": {
      "host": {
        "AzureML": {
          "notebookHasBeenCompleted": true
        }
      },
      "ms_spell_check": {
        "ms_spell_check_language": "en"
      }
    },
    "nteract": {
      "version": "nteract-front-end@1.0.0"
    }
  },
  "nbformat": 4,
  "nbformat_minor": 2
}
