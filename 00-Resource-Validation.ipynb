{
  "cells": [
    {
      "cell_type": "markdown",
      "source": [
        "# Resource Validation\n",
        "\n",
        "Created for air-gapped clouds, this notebook validates whether the VBD resources in this solution are available and configured in the current subscription.  "
      ],
      "metadata": {
        "nteract": {
          "transient": {
            "deleting": false
          }
        }
      }
    },
    {
      "cell_type": "markdown",
      "source": [
        "### Python Prerequisite Libraries for Validation\n",
        "\n",
        "The following libraries may need to be installed in your kernel to validate the Azure session.  If you do NOT have a connection to the general web, you will need to find a secure means to load these packages on your own Python kernel (using Terminal for your compute instance is the recommended way)."
      ],
      "metadata": {
        "nteract": {
          "transient": {
            "deleting": false
          }
        }
      }
    },
    {
      "cell_type": "code",
      "source": [
        "# Uncomment to install directly from the Jupyter notebook (this method assumes the ability to reach the regular web)\n",
        "# !pip install azure-mgmt-resource azure-mgmt-search azure-identity azure.mgmt.cognitiveservices"
      ],
      "outputs": [
        {
          "output_type": "stream",
          "name": "stdout",
          "text": "Requirement already satisfied: azure-mgmt-resource in /anaconda/envs/azureml_py38/lib/python3.8/site-packages (21.1.0b1)\nRequirement already satisfied: azure-mgmt-search in /anaconda/envs/azureml_py38/lib/python3.8/site-packages (9.0.0)\nRequirement already satisfied: azure-identity in /anaconda/envs/azureml_py38/lib/python3.8/site-packages (1.13.0)\nCollecting azure.mgmt.cognitiveservices\n  Downloading azure_mgmt_cognitiveservices-13.5.0-py3-none-any.whl (144 kB)\n\u001b[K     |████████████████████████████████| 144 kB 4.5 MB/s eta 0:00:01\n\u001b[?25hRequirement already satisfied: azure-common~=1.1 in /anaconda/envs/azureml_py38/lib/python3.8/site-packages (from azure-mgmt-resource) (1.1.28)\nRequirement already satisfied: msrest>=0.6.21 in /anaconda/envs/azureml_py38/lib/python3.8/site-packages (from azure-mgmt-resource) (0.7.1)\nRequirement already satisfied: azure-mgmt-core<2.0.0,>=1.3.0 in /anaconda/envs/azureml_py38/lib/python3.8/site-packages (from azure-mgmt-resource) (1.4.0)\nRequirement already satisfied: msal<2.0.0,>=1.20.0 in /anaconda/envs/azureml_py38/lib/python3.8/site-packages (from azure-identity) (1.22.0)\nRequirement already satisfied: azure-core<2.0.0,>=1.11.0 in /anaconda/envs/azureml_py38/lib/python3.8/site-packages (from azure-identity) (1.26.4)\nRequirement already satisfied: six>=1.12.0 in /anaconda/envs/azureml_py38/lib/python3.8/site-packages (from azure-identity) (1.16.0)\nRequirement already satisfied: msal-extensions<2.0.0,>=0.3.0 in /anaconda/envs/azureml_py38/lib/python3.8/site-packages (from azure-identity) (1.0.0)\nRequirement already satisfied: cryptography>=2.5 in /anaconda/envs/azureml_py38/lib/python3.8/site-packages (from azure-identity) (38.0.4)\nRequirement already satisfied: isodate<1.0.0,>=0.6.1 in /anaconda/envs/azureml_py38/lib/python3.8/site-packages (from azure.mgmt.cognitiveservices) (0.6.1)\nRequirement already satisfied: requests-oauthlib>=0.5.0 in /anaconda/envs/azureml_py38/lib/python3.8/site-packages (from msrest>=0.6.21->azure-mgmt-resource) (1.3.1)\nRequirement already satisfied: certifi>=2017.4.17 in /anaconda/envs/azureml_py38/lib/python3.8/site-packages (from msrest>=0.6.21->azure-mgmt-resource) (2022.9.24)\nRequirement already satisfied: requests~=2.16 in /anaconda/envs/azureml_py38/lib/python3.8/site-packages (from msrest>=0.6.21->azure-mgmt-resource) (2.31.0)\nRequirement already satisfied: PyJWT[crypto]<3,>=1.0.0 in /anaconda/envs/azureml_py38/lib/python3.8/site-packages (from msal<2.0.0,>=1.20.0->azure-identity) (2.4.0)\nRequirement already satisfied: typing-extensions>=4.3.0 in /anaconda/envs/azureml_py38/lib/python3.8/site-packages (from azure-core<2.0.0,>=1.11.0->azure-identity) (4.6.0)\nRequirement already satisfied: portalocker<3,>=1.0; python_version >= \"3.5\" and platform_system != \"Windows\" in /anaconda/envs/azureml_py38/lib/python3.8/site-packages (from msal-extensions<2.0.0,>=0.3.0->azure-identity) (2.7.0)\nRequirement already satisfied: cffi>=1.12 in /anaconda/envs/azureml_py38/lib/python3.8/site-packages (from cryptography>=2.5->azure-identity) (1.15.1)\nRequirement already satisfied: oauthlib>=3.0.0 in /anaconda/envs/azureml_py38/lib/python3.8/site-packages (from requests-oauthlib>=0.5.0->msrest>=0.6.21->azure-mgmt-resource) (3.2.2)\nRequirement already satisfied: charset-normalizer<4,>=2 in /anaconda/envs/azureml_py38/lib/python3.8/site-packages (from requests~=2.16->msrest>=0.6.21->azure-mgmt-resource) (3.1.0)\nRequirement already satisfied: idna<4,>=2.5 in /anaconda/envs/azureml_py38/lib/python3.8/site-packages (from requests~=2.16->msrest>=0.6.21->azure-mgmt-resource) (3.4)\nRequirement already satisfied: urllib3<3,>=1.21.1 in /anaconda/envs/azureml_py38/lib/python3.8/site-packages (from requests~=2.16->msrest>=0.6.21->azure-mgmt-resource) (1.26.16)\nRequirement already satisfied: pycparser in /anaconda/envs/azureml_py38/lib/python3.8/site-packages (from cffi>=1.12->cryptography>=2.5->azure-identity) (2.21)\n\u001b[31mERROR: azure-cli 2.49.0 has requirement azure-keyvault-keys==4.8.0b2, but you'll have azure-keyvault-keys 4.8.0 which is incompatible.\u001b[0m\n\u001b[31mERROR: azure-cli 2.49.0 has requirement azure-mgmt-cognitiveservices~=13.3.0, but you'll have azure-mgmt-cognitiveservices 13.5.0 which is incompatible.\u001b[0m\n\u001b[31mERROR: azure-cli 2.49.0 has requirement azure-mgmt-keyvault==10.2.0, but you'll have azure-mgmt-keyvault 10.2.1 which is incompatible.\u001b[0m\n\u001b[31mERROR: azure-cli 2.49.0 has requirement azure-mgmt-resource==22.0.0, but you'll have azure-mgmt-resource 21.1.0b1 which is incompatible.\u001b[0m\nInstalling collected packages: azure.mgmt.cognitiveservices\nSuccessfully installed azure.mgmt.cognitiveservices\n"
        }
      ],
      "execution_count": 2,
      "metadata": {
        "jupyter": {
          "source_hidden": false,
          "outputs_hidden": false
        },
        "nteract": {
          "transient": {
            "deleting": false
          }
        },
        "gather": {
          "logged": 1694610790878
        }
      }
    },
    {
      "cell_type": "markdown",
      "source": [
        "### Python Package Load\n",
        "\n",
        "These packages will be used to validate the resources in this Azure subscription."
      ],
      "metadata": {
        "nteract": {
          "transient": {
            "deleting": false
          }
        }
      }
    },
    {
      "cell_type": "code",
      "source": [
        "from azureml.core import Workspace\n",
        "from azure.identity import DefaultAzureCredential\n",
        "from azure.mgmt.resource import ResourceManagementClient\n",
        "from azure.mgmt.search import SearchManagementClient\n",
        "from azure.identity import DefaultAzureCredential\n",
        "from azure.mgmt.cognitiveservices import CognitiveServicesManagementClient\n",
        "import pkg_resources\n",
        "\n",
        "import requests\n",
        "import os\n",
        "import json\n",
        "from dotenv import load_dotenv\n",
        "\n",
        "try:\n",
        "    load_dotenv(dotenv_path=\"credentials.env\")\n",
        "    print(\"Successfully loaded environment variables from credentials.env\")\n",
        "    \n",
        "except Exception as e:\n",
        "    print(f\"An error occurred while loading environment variables from credentials.env: {e}\")"
      ],
      "outputs": [
        {
          "output_type": "stream",
          "name": "stdout",
          "text": "Successfully loaded environment variables from credentials.env\n"
        }
      ],
      "execution_count": 8,
      "metadata": {
        "jupyter": {
          "source_hidden": false,
          "outputs_hidden": false
        },
        "nteract": {
          "transient": {
            "deleting": false
          }
        },
        "gather": {
          "logged": 1694611522034
        }
      }
    },
    {
      "cell_type": "markdown",
      "source": [
        "### Validation: Requirements File\n",
        "\n",
        "This VBD has a \"./common/requirements.txt\" file whose contents may change in future VBD releases.  The following code checks that the current version has its libraries installed in the kernel running in Jupyter."
      ],
      "metadata": {
        "nteract": {
          "transient": {
            "deleting": false
          }
        }
      }
    },
    {
      "cell_type": "code",
      "source": [
        "def validate_requirements(requirements_path):\n",
        "    # Read requirements.txt and parse each line as a requirement\n",
        "    with open(requirements_path, 'r') as f:\n",
        "        requirements = [line.strip() for line in f if line.strip()]\n",
        "\n",
        "    # Fetch the list of currently installed packages\n",
        "    installed_packages = {pkg.key: pkg.version for pkg in pkg_resources.working_set}\n",
        "\n",
        "    # Validate each requirement\n",
        "    all_requirements_met = True\n",
        "    for requirement in requirements:\n",
        "        # Parse the requirement string to Requirement object\n",
        "        req = pkg_resources.Requirement.parse(requirement)\n",
        "\n",
        "        # Check if the package is installed\n",
        "        if req.key not in installed_packages:\n",
        "            print(f\"Package '{req}' is not installed.\")\n",
        "            all_requirements_met = False\n",
        "            continue\n",
        "\n",
        "        # Check if installed package meets the version requirement\n",
        "        installed_version = installed_packages[req.key]\n",
        "        if installed_version not in req:\n",
        "            print(f\"Installed version {installed_version} of '{req.key}' does not meet requirement '{req}'.\")\n",
        "            all_requirements_met = False\n",
        "\n",
        "    return all_requirements_met\n",
        "\n",
        "\n",
        "if validate_requirements('./common/requirements.txt'):\n",
        "    print(\"All requirements are met.\")\n",
        "else:\n",
        "    print(\"Some requirements are not met.\")"
      ],
      "outputs": [
        {
          "output_type": "stream",
          "name": "stdout",
          "text": "All requirements are met.\n"
        }
      ],
      "execution_count": 4,
      "metadata": {
        "jupyter": {
          "source_hidden": false,
          "outputs_hidden": false
        },
        "nteract": {
          "transient": {
            "deleting": false
          }
        },
        "gather": {
          "logged": 1694610975474
        }
      }
    },
    {
      "cell_type": "code",
      "source": [
        "# Uncomment this line if you want to check the packages currently installed\n",
        "# !pip freeze"
      ],
      "outputs": [],
      "execution_count": null,
      "metadata": {
        "jupyter": {
          "source_hidden": false,
          "outputs_hidden": false
        },
        "nteract": {
          "transient": {
            "deleting": false
          }
        }
      }
    },
    {
      "cell_type": "markdown",
      "source": [
        "### Initialize Resource Management Client\n",
        "\n",
        "Accessing the Azure Resource Management Client will be needed in further validation steps.\n",
        "\n",
        "See documentation at https://learn.microsoft.com/en-us/python/api/overview/azure/identity-readme?view=azure-python"
      ],
      "metadata": {
        "nteract": {
          "transient": {
            "deleting": false
          }
        }
      }
    },
    {
      "cell_type": "code",
      "source": [
        "# Initialize Azure credentials\n",
        "from azure.identity import AzureCliCredential\n",
        "credential = AzureCliCredential()\n",
        "\n",
        "# Initialize a Workspace object from the existing workspace you have\n",
        "ws = Workspace.from_config()\n",
        "\n",
        "# Retrieve and print the subscription ID\n",
        "subscription_id = ws.subscription_id\n",
        "print(\"Subscription ID:\", subscription_id)\n",
        "\n",
        "# Initialize the Resource Management client\n",
        "resource_client = ResourceManagementClient(credential, subscription_id)"
      ],
      "outputs": [
        {
          "output_type": "stream",
          "name": "stdout",
          "text": "Subscription ID: 22d888ba-fc6d-4539-8483-172985f2a28f\n"
        }
      ],
      "execution_count": 5,
      "metadata": {
        "jupyter": {
          "source_hidden": false,
          "outputs_hidden": false
        },
        "nteract": {
          "transient": {
            "deleting": false
          }
        },
        "gather": {
          "logged": 1694610979965
        }
      }
    },
    {
      "cell_type": "markdown",
      "source": [
        "### Validation:  Azure Cognitive Search\n",
        "\n",
        "Check whether the credentials.env settings for Azure Cognitive Search lead to an active session."
      ],
      "metadata": {
        "nteract": {
          "transient": {
            "deleting": false
          }
        }
      }
    },
    {
      "cell_type": "code",
      "source": [
        "def check_azure_search_service(api_version, endpoint, search_key):\n",
        "    headers = {\n",
        "        'api-key': search_key,\n",
        "        'Content-Type': 'application/json'\n",
        "    }\n",
        "    params = {'api-version': api_version}\n",
        "\n",
        "    # Construct the URL for the request\n",
        "    url = f\"{endpoint}/servicestats\"\n",
        "\n",
        "    try:\n",
        "        # Make the API request\n",
        "        response = requests.get(url, headers=headers, params=params)\n",
        "\n",
        "        # Check if the request was successful\n",
        "        if response.status_code == 200:\n",
        "            print(\"Azure Cognitive Search service is active.  The following output shows the service statistics.\")\n",
        "        else:\n",
        "            print(f\"Received status code {response.status_code}. Service may not be active or the request was invalid.\")\n",
        "\n",
        "        # Parse the JSON content\n",
        "        json_data = json.loads(response.content)\n",
        "\n",
        "        # Pretty-print the JSON data\n",
        "        pretty_str = json.dumps(json_data, indent=4)\n",
        "        print(pretty_str)\n",
        "\n",
        "    except Exception as e:\n",
        "        print(f\"An error occurred: {e}\")\n",
        "\n",
        "# Set your own API version, endpoint, and search key\n",
        "api_version = os.environ['AZURE_SEARCH_API_VERSION']\n",
        "endpoint = os.environ['AZURE_SEARCH_ENDPOINT']\n",
        "search_key = os.environ['AZURE_SEARCH_KEY']\n",
        "\n",
        "check_azure_search_service(api_version, endpoint, search_key)"
      ],
      "outputs": [
        {
          "output_type": "stream",
          "name": "stdout",
          "text": "Azure Cognitive Search service is active.  The following output shows the service statistics.\n{\n    \"@odata.context\": \"https://cog-search-rylu5pcprg6ja.search.azure.us/$metadata#Microsoft.Azure.Search.V2023_07_01_Preview.ServiceStatistics\",\n    \"counters\": {\n        \"documentCount\": {\n            \"usage\": 103813,\n            \"quota\": null\n        },\n        \"indexesCount\": {\n            \"usage\": 6,\n            \"quota\": 50\n        },\n        \"indexersCount\": {\n            \"usage\": 5,\n            \"quota\": 50\n        },\n        \"dataSourcesCount\": {\n            \"usage\": 5,\n            \"quota\": 50\n        },\n        \"storageSize\": {\n            \"usage\": 1337839012,\n            \"quota\": 26843545600\n        },\n        \"synonymMaps\": {\n            \"usage\": 0,\n            \"quota\": 5\n        },\n        \"skillsetCount\": {\n            \"usage\": 5,\n            \"quota\": 50\n        },\n        \"aliasesCount\": {\n            \"usage\": 0,\n            \"quota\": 100\n        },\n        \"vectorIndexSize\": {\n            \"usage\": 26461044,\n            \"quota\": 1073741824\n        }\n    },\n    \"limits\": {\n        \"maxFieldsPerIndex\": 3000,\n        \"maxFieldNestingDepthPerIndex\": 10,\n        \"maxComplexCollectionFieldsPerIndex\": 40,\n        \"maxComplexObjectsInCollectionsPerDocument\": 3000\n    }\n}\n"
        }
      ],
      "execution_count": 6,
      "metadata": {
        "jupyter": {
          "source_hidden": false,
          "outputs_hidden": false
        },
        "nteract": {
          "transient": {
            "deleting": false
          }
        },
        "gather": {
          "logged": 1694610983909
        }
      }
    },
    {
      "cell_type": "markdown",
      "source": [
        "#### Semantic Search\n",
        "\n",
        "Semantic search for Azure Cognitive Search may not be available for your region, and may not be enabled for your search service.\n",
        "The best way to check is to use the Azure Portal using instructions from https://learn.microsoft.com/en-us/azure/search/semantic-how-to-enable-disable?tabs=enable-portal#enable-semantic-search"
      ],
      "metadata": {
        "nteract": {
          "transient": {
            "deleting": false
          }
        }
      }
    },
    {
      "cell_type": "markdown",
      "source": [
        "#### "
      ],
      "metadata": {
        "nteract": {
          "transient": {
            "deleting": false
          }
        }
      }
    }
  ],
  "metadata": {
    "kernelspec": {
      "name": "python310-sdkv2",
      "language": "python",
      "display_name": "Python 3.10 - SDK v2"
    },
    "language_info": {
      "name": "python",
      "version": "3.10.11",
      "mimetype": "text/x-python",
      "codemirror_mode": {
        "name": "ipython",
        "version": 3
      },
      "pygments_lexer": "ipython3",
      "nbconvert_exporter": "python",
      "file_extension": ".py"
    },
    "microsoft": {
      "ms_spell_check": {
        "ms_spell_check_language": "en"
      },
      "host": {
        "AzureML": {
          "notebookHasBeenCompleted": true
        }
      }
    },
    "kernel_info": {
      "name": "python310-sdkv2"
    },
    "nteract": {
      "version": "nteract-front-end@1.0.0"
    }
  },
  "nbformat": 4,
  "nbformat_minor": 2
}