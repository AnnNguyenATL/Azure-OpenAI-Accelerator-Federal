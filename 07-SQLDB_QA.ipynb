{
  "cells": [
    {
      "cell_type": "markdown",
      "id": "66ab3cc5-aee4-415a-9391-1e5d37ccaf1d",
      "metadata": {},
      "source": [
        "# Q&A against a SQL Database (Azure SQL, Azure Fabric, Synapse, SQL Managed Instance, etc)"
      ]
    },
    {
      "cell_type": "markdown",
      "id": "306fc0a9-4044-441d-9ba7-f54f32e6ea9f",
      "metadata": {},
      "source": [
        "Now that we know (from the prior Notebook) how to query tabular data on a CSV file, let's try now to keep the data at is source and ask questions directly to a SQL Database.\n",
        "The goal of this notebook is to demonstrate how a LLM so advanced as GPT-4 can understand a human question and translate that into a SQL query to get the answer. \n",
        "\n",
        "We will be using the Azure SQL Server that you created on the initial deployment. However the same code below works with any SQL database like Synapse for example. The server should be created on the Resource Group where the Azure Cognitive Search service is located.\n",
        "\n",
        "Let's begin.."
      ]
    },
    {
      "cell_type": "code",
      "execution_count": 8,
      "id": "bc719b2f",
      "metadata": {},
      "outputs": [
        {
          "name": "stdout",
          "output_type": "stream",
          "text": [
            "Collecting langchain==0.0.316 (from -r common/requirements.txt (line 1))\n",
            "  Obtaining dependency information for langchain==0.0.316 from https://files.pythonhosted.org/packages/cb/58/27830eb8bdcfabc2ec9ce2fef4e9d4fda5ce7c886f6b5be18d2ee365e603/langchain-0.0.316-py3-none-any.whl.metadata\n",
            "  Using cached langchain-0.0.316-py3-none-any.whl.metadata (15 kB)\n",
            "Requirement already satisfied: faiss-cpu in c:\\python311\\lib\\site-packages (from -r common/requirements.txt (line 2)) (1.7.4)\n",
            "Collecting openai==0.28.1 (from -r common/requirements.txt (line 3))\n",
            "  Obtaining dependency information for openai==0.28.1 from https://files.pythonhosted.org/packages/1e/9f/385c25502f437686e4aa715969e5eaf5c2cb5e5ffa7c5cdd52f3c6ae967a/openai-0.28.1-py3-none-any.whl.metadata\n",
            "  Using cached openai-0.28.1-py3-none-any.whl.metadata (11 kB)\n",
            "Collecting tiktoken (from -r common/requirements.txt (line 4))\n",
            "  Obtaining dependency information for tiktoken from https://files.pythonhosted.org/packages/b8/eb/234646d9eefda8a500d0fd88b05bf625a90ed18054124349db26e558276e/tiktoken-0.5.1-cp311-cp311-win_amd64.whl.metadata\n",
            "  Using cached tiktoken-0.5.1-cp311-cp311-win_amd64.whl.metadata (6.8 kB)\n",
            "Requirement already satisfied: docx2txt in c:\\python311\\lib\\site-packages (from -r common/requirements.txt (line 5)) (0.8)\n",
            "Requirement already satisfied: Pillow in c:\\python311\\lib\\site-packages (from -r common/requirements.txt (line 6)) (10.0.1)\n",
            "Collecting pypdf (from -r common/requirements.txt (line 7))\n",
            "  Obtaining dependency information for pypdf from https://files.pythonhosted.org/packages/74/a9/5ccde1312650dd03e65350224fea85d9a430c182a01f056599cbb76f7390/pypdf-3.17.0-py3-none-any.whl.metadata\n",
            "  Using cached pypdf-3.17.0-py3-none-any.whl.metadata (7.5 kB)\n",
            "Collecting tenacity (from -r common/requirements.txt (line 8))\n",
            "  Obtaining dependency information for tenacity from https://files.pythonhosted.org/packages/f4/f1/990741d5bb2487d529d20a433210ffa136a367751e454214013b441c4575/tenacity-8.2.3-py3-none-any.whl.metadata\n",
            "  Using cached tenacity-8.2.3-py3-none-any.whl.metadata (1.0 kB)\n",
            "Collecting SQLAlchemy<2.0.0 (from -r common/requirements.txt (line 9))\n",
            "  Using cached SQLAlchemy-1.4.50-cp311-cp311-win_amd64.whl\n",
            "Requirement already satisfied: pyodbc in c:\\python311\\lib\\site-packages (from -r common/requirements.txt (line 10)) (5.0.1)\n",
            "Collecting tabulate (from -r common/requirements.txt (line 11))\n",
            "  Using cached tabulate-0.9.0-py3-none-any.whl (35 kB)\n",
            "Collecting azure-cosmos (from -r common/requirements.txt (line 12))\n",
            "  Obtaining dependency information for azure-cosmos from https://files.pythonhosted.org/packages/cd/66/c58f281d4650dc181f5d6df05ac673219f7e4071b3e2a0faa5afde2b0f61/azure_cosmos-4.5.1-py3-none-any.whl.metadata\n",
            "  Using cached azure_cosmos-4.5.1-py3-none-any.whl.metadata (57 kB)\n",
            "Collecting botbuilder-integration-aiohttp>=4.14.4 (from -r common/requirements.txt (line 13))\n",
            "  Obtaining dependency information for botbuilder-integration-aiohttp>=4.14.4 from https://files.pythonhosted.org/packages/a5/dc/b29a41435f08b7f8eb7027708834dc21b21785620169f958a8e780d72e6c/botbuilder_integration_aiohttp-4.14.6-py3-none-any.whl.metadata\n",
            "  Using cached botbuilder_integration_aiohttp-4.14.6-py3-none-any.whl.metadata (4.0 kB)\n",
            "Collecting streamlit (from -r common/requirements.txt (line 14))\n",
            "  Obtaining dependency information for streamlit from https://files.pythonhosted.org/packages/df/e2/e1c8e3abce0e819a4ef3c6a5af4ddbb1eadbca0cf2ebd5e58853edcd58bd/streamlit-1.28.1-py2.py3-none-any.whl.metadata\n",
            "  Using cached streamlit-1.28.1-py2.py3-none-any.whl.metadata (8.1 kB)\n",
            "Collecting python-dotenv (from -r common/requirements.txt (line 15))\n",
            "  Using cached python_dotenv-1.0.0-py3-none-any.whl (19 kB)\n",
            "Collecting azure-ai-formrecognizer (from -r common/requirements.txt (line 16))\n",
            "  Obtaining dependency information for azure-ai-formrecognizer from https://files.pythonhosted.org/packages/60/96/9496960475a578b5bd688eee6be8ec96d9a2673925fc447be9214d73a547/azure_ai_formrecognizer-3.3.2-py3-none-any.whl.metadata\n",
            "  Using cached azure_ai_formrecognizer-3.3.2-py3-none-any.whl.metadata (63 kB)\n",
            "Requirement already satisfied: PyYAML>=5.3 in c:\\python311\\lib\\site-packages (from langchain==0.0.316->-r common/requirements.txt (line 1)) (6.0.1)\n",
            "Collecting aiohttp<4.0.0,>=3.8.3 (from langchain==0.0.316->-r common/requirements.txt (line 1))\n",
            "  Obtaining dependency information for aiohttp<4.0.0,>=3.8.3 from https://files.pythonhosted.org/packages/2e/9f/9c37b01fc6a37c92f139a4cd937a92f03ebbd75379cfd55e85ca1e571643/aiohttp-3.8.6-cp311-cp311-win_amd64.whl.metadata\n",
            "  Using cached aiohttp-3.8.6-cp311-cp311-win_amd64.whl.metadata (7.9 kB)\n",
            "Collecting anyio<4.0 (from langchain==0.0.316->-r common/requirements.txt (line 1))\n",
            "  Obtaining dependency information for anyio<4.0 from https://files.pythonhosted.org/packages/19/24/44299477fe7dcc9cb58d0a57d5a7588d6af2ff403fdd2d47a246c91a3246/anyio-3.7.1-py3-none-any.whl.metadata\n",
            "  Using cached anyio-3.7.1-py3-none-any.whl.metadata (4.7 kB)\n",
            "Collecting dataclasses-json<0.7,>=0.5.7 (from langchain==0.0.316->-r common/requirements.txt (line 1))\n",
            "  Obtaining dependency information for dataclasses-json<0.7,>=0.5.7 from https://files.pythonhosted.org/packages/21/1f/1cff009cff64420572b9f75b70e4a054095719179a172297dfdd65843162/dataclasses_json-0.6.1-py3-none-any.whl.metadata\n",
            "  Using cached dataclasses_json-0.6.1-py3-none-any.whl.metadata (24 kB)\n",
            "Collecting jsonpatch<2.0,>=1.33 (from langchain==0.0.316->-r common/requirements.txt (line 1))\n",
            "  Obtaining dependency information for jsonpatch<2.0,>=1.33 from https://files.pythonhosted.org/packages/73/07/02e16ed01e04a374e644b575638ec7987ae846d25ad97bcc9945a3ee4b0e/jsonpatch-1.33-py2.py3-none-any.whl.metadata\n",
            "  Using cached jsonpatch-1.33-py2.py3-none-any.whl.metadata (3.0 kB)\n",
            "Collecting langsmith<0.1.0,>=0.0.43 (from langchain==0.0.316->-r common/requirements.txt (line 1))\n",
            "  Obtaining dependency information for langsmith<0.1.0,>=0.0.43 from https://files.pythonhosted.org/packages/7c/6e/feb3dc81de4e12b30df223cffd51e381dd250f6f905d119c619d8b558d00/langsmith-0.0.60-py3-none-any.whl.metadata\n",
            "  Using cached langsmith-0.0.60-py3-none-any.whl.metadata (10 kB)\n",
            "Requirement already satisfied: numpy<2,>=1 in c:\\python311\\lib\\site-packages (from langchain==0.0.316->-r common/requirements.txt (line 1)) (1.26.0)\n",
            "Collecting pydantic<3,>=1 (from langchain==0.0.316->-r common/requirements.txt (line 1))\n",
            "  Obtaining dependency information for pydantic<3,>=1 from https://files.pythonhosted.org/packages/73/66/0a72c9fcde42e5650c8d8d5c5c1873b9a3893018020c77ca8eb62708b923/pydantic-2.4.2-py3-none-any.whl.metadata\n",
            "  Using cached pydantic-2.4.2-py3-none-any.whl.metadata (158 kB)\n",
            "Requirement already satisfied: requests<3,>=2 in c:\\python311\\lib\\site-packages (from langchain==0.0.316->-r common/requirements.txt (line 1)) (2.31.0)\n",
            "Requirement already satisfied: tqdm in c:\\python311\\lib\\site-packages (from openai==0.28.1->-r common/requirements.txt (line 3)) (4.66.1)\n",
            "Collecting regex>=2022.1.18 (from tiktoken->-r common/requirements.txt (line 4))\n",
            "  Obtaining dependency information for regex>=2022.1.18 from https://files.pythonhosted.org/packages/b8/ad/3398312096118c4e62a5827664e52a04d5068e84d04142dd4a0da8a567ae/regex-2023.10.3-cp311-cp311-win_amd64.whl.metadata\n",
            "  Using cached regex-2023.10.3-cp311-cp311-win_amd64.whl.metadata (41 kB)\n",
            "Requirement already satisfied: greenlet!=0.4.17 in c:\\python311\\lib\\site-packages (from SQLAlchemy<2.0.0->-r common/requirements.txt (line 9)) (2.0.2)\n",
            "Collecting azure-core<2.0.0,>=1.23.0 (from azure-cosmos->-r common/requirements.txt (line 12))\n",
            "  Obtaining dependency information for azure-core<2.0.0,>=1.23.0 from https://files.pythonhosted.org/packages/9c/f8/1cf23a75cb8c2755c539ac967f3a7f607887c4979d073808134803720f0f/azure_core-1.29.5-py3-none-any.whl.metadata\n",
            "  Using cached azure_core-1.29.5-py3-none-any.whl.metadata (36 kB)\n",
            "Collecting botbuilder-schema==4.14.6 (from botbuilder-integration-aiohttp>=4.14.4->-r common/requirements.txt (line 13))\n",
            "  Obtaining dependency information for botbuilder-schema==4.14.6 from https://files.pythonhosted.org/packages/d1/55/c0d9b9430bc4a2cde8a84a3bb556b4617bd390cd36d205beee8da925ca1d/botbuilder_schema-4.14.6-py2.py3-none-any.whl.metadata\n",
            "  Using cached botbuilder_schema-4.14.6-py2.py3-none-any.whl.metadata (3.7 kB)\n",
            "Collecting botframework-connector==4.14.6 (from botbuilder-integration-aiohttp>=4.14.4->-r common/requirements.txt (line 13))\n",
            "  Obtaining dependency information for botframework-connector==4.14.6 from https://files.pythonhosted.org/packages/c8/d9/0e592acef663788ac22429899182d824c97bab3263ff3a059b97c119b2d1/botframework_connector-4.14.6-py2.py3-none-any.whl.metadata\n",
            "  Using cached botframework_connector-4.14.6-py2.py3-none-any.whl.metadata (5.9 kB)\n",
            "Collecting botbuilder-core==4.14.6 (from botbuilder-integration-aiohttp>=4.14.4->-r common/requirements.txt (line 13))\n",
            "  Obtaining dependency information for botbuilder-core==4.14.6 from https://files.pythonhosted.org/packages/8a/7f/c202aaaeaa351f12c23cddbe9fa9b917572bab5ce92d5f9709dec25428ba/botbuilder_core-4.14.6-py3-none-any.whl.metadata\n",
            "  Using cached botbuilder_core-4.14.6-py3-none-any.whl.metadata (3.9 kB)\n",
            "Requirement already satisfied: yarl>=1.8.1 in c:\\python311\\lib\\site-packages (from botbuilder-integration-aiohttp>=4.14.4->-r common/requirements.txt (line 13)) (1.9.2)\n",
            "Collecting aiohttp<4.0.0,>=3.8.3 (from langchain==0.0.316->-r common/requirements.txt (line 1))\n",
            "  Obtaining dependency information for aiohttp<4.0.0,>=3.8.3 from https://files.pythonhosted.org/packages/21/4e/452858698e53ddf06ea137eac268db535c9605394c27236f9986168dd82f/aiohttp-3.8.5-cp311-cp311-win_amd64.whl.metadata\n",
            "  Using cached aiohttp-3.8.5-cp311-cp311-win_amd64.whl.metadata (8.0 kB)\n",
            "Collecting attrs>=17.3.0 (from aiohttp<4.0.0,>=3.8.3->langchain==0.0.316->-r common/requirements.txt (line 1))\n",
            "  Using cached attrs-23.1.0-py3-none-any.whl (61 kB)\n",
            "Requirement already satisfied: charset-normalizer<4.0,>=2.0 in c:\\python311\\lib\\site-packages (from aiohttp<4.0.0,>=3.8.3->langchain==0.0.316->-r common/requirements.txt (line 1)) (3.2.0)\n",
            "Requirement already satisfied: multidict<7.0,>=4.5 in c:\\python311\\lib\\site-packages (from aiohttp<4.0.0,>=3.8.3->langchain==0.0.316->-r common/requirements.txt (line 1)) (6.0.4)\n",
            "Collecting async-timeout<5.0,>=4.0.0a3 (from aiohttp<4.0.0,>=3.8.3->langchain==0.0.316->-r common/requirements.txt (line 1))\n",
            "  Obtaining dependency information for async-timeout<5.0,>=4.0.0a3 from https://files.pythonhosted.org/packages/a7/fa/e01228c2938de91d47b307831c62ab9e4001e747789d0b05baf779a6488c/async_timeout-4.0.3-py3-none-any.whl.metadata\n",
            "  Using cached async_timeout-4.0.3-py3-none-any.whl.metadata (4.2 kB)\n",
            "Requirement already satisfied: frozenlist>=1.1.1 in c:\\python311\\lib\\site-packages (from aiohttp<4.0.0,>=3.8.3->langchain==0.0.316->-r common/requirements.txt (line 1)) (1.4.0)\n",
            "Collecting aiosignal>=1.1.2 (from aiohttp<4.0.0,>=3.8.3->langchain==0.0.316->-r common/requirements.txt (line 1))\n",
            "  Using cached aiosignal-1.3.1-py3-none-any.whl (7.6 kB)\n",
            "Collecting botframework-streaming==4.14.6 (from botbuilder-core==4.14.6->botbuilder-integration-aiohttp>=4.14.4->-r common/requirements.txt (line 13))\n",
            "  Obtaining dependency information for botframework-streaming==4.14.6 from https://files.pythonhosted.org/packages/25/e2/bb9e5e004e2ed326b887804401c7ac6441b0ff530e50bab3174353454b21/botframework_streaming-4.14.6-py3-none-any.whl.metadata\n",
            "  Using cached botframework_streaming-4.14.6-py3-none-any.whl.metadata (3.8 kB)\n",
            "Collecting jsonpickle<1.5,>=1.2 (from botbuilder-core==4.14.6->botbuilder-integration-aiohttp>=4.14.4->-r common/requirements.txt (line 13))\n",
            "  Using cached jsonpickle-1.4.2-py2.py3-none-any.whl (36 kB)\n",
            "Collecting msrest==0.6.* (from botbuilder-schema==4.14.6->botbuilder-integration-aiohttp>=4.14.4->-r common/requirements.txt (line 13))\n",
            "  Using cached msrest-0.6.21-py2.py3-none-any.whl (85 kB)\n",
            "Requirement already satisfied: urllib3<2.0.0 in c:\\python311\\lib\\site-packages (from botbuilder-schema==4.14.6->botbuilder-integration-aiohttp>=4.14.4->-r common/requirements.txt (line 13)) (1.26.16)\n",
            "Collecting PyJWT>=2.4.0 (from botframework-connector==4.14.6->botbuilder-integration-aiohttp>=4.14.4->-r common/requirements.txt (line 13))\n",
            "  Obtaining dependency information for PyJWT>=2.4.0 from https://files.pythonhosted.org/packages/2b/4f/e04a8067c7c96c364cef7ef73906504e2f40d690811c021e1a1901473a19/PyJWT-2.8.0-py3-none-any.whl.metadata\n",
            "  Using cached PyJWT-2.8.0-py3-none-any.whl.metadata (4.2 kB)\n",
            "Collecting msal==1.* (from botframework-connector==4.14.6->botbuilder-integration-aiohttp>=4.14.4->-r common/requirements.txt (line 13))\n",
            "  Obtaining dependency information for msal==1.* from https://files.pythonhosted.org/packages/2a/45/d80a35ce701c1b3b53ab57a585813636acba39f3a8ed87ac01e0f1dfa3c1/msal-1.25.0-py2.py3-none-any.whl.metadata\n",
            "  Using cached msal-1.25.0-py2.py3-none-any.whl.metadata (11 kB)\n",
            "Collecting cryptography<44,>=0.6 (from msal==1.*->botframework-connector==4.14.6->botbuilder-integration-aiohttp>=4.14.4->-r common/requirements.txt (line 13))\n",
            "  Obtaining dependency information for cryptography<44,>=0.6 from https://files.pythonhosted.org/packages/86/35/f03a42444866ef7f23134812a05012dcb509418214fb78ec848f28cd14b8/cryptography-41.0.5-cp37-abi3-win_amd64.whl.metadata\n",
            "  Using cached cryptography-41.0.5-cp37-abi3-win_amd64.whl.metadata (5.3 kB)\n",
            "Requirement already satisfied: requests-oauthlib>=0.5.0 in c:\\python311\\lib\\site-packages (from msrest==0.6.*->botbuilder-schema==4.14.6->botbuilder-integration-aiohttp>=4.14.4->-r common/requirements.txt (line 13)) (1.3.1)\n",
            "Collecting isodate>=0.6.0 (from msrest==0.6.*->botbuilder-schema==4.14.6->botbuilder-integration-aiohttp>=4.14.4->-r common/requirements.txt (line 13))\n",
            "  Using cached isodate-0.6.1-py2.py3-none-any.whl (41 kB)\n",
            "Requirement already satisfied: certifi>=2017.4.17 in c:\\python311\\lib\\site-packages (from msrest==0.6.*->botbuilder-schema==4.14.6->botbuilder-integration-aiohttp>=4.14.4->-r common/requirements.txt (line 13)) (2023.7.22)\n",
            "Collecting altair<6,>=4.0 (from streamlit->-r common/requirements.txt (line 14))\n",
            "  Obtaining dependency information for altair<6,>=4.0 from https://files.pythonhosted.org/packages/17/16/b12fca347ff9d062e3c44ad9641d2ec50364570a059f3078ada3a5119d7a/altair-5.1.2-py3-none-any.whl.metadata\n",
            "  Using cached altair-5.1.2-py3-none-any.whl.metadata (8.6 kB)\n",
            "Collecting blinker<2,>=1.0.0 (from streamlit->-r common/requirements.txt (line 14))\n",
            "  Obtaining dependency information for blinker<2,>=1.0.0 from https://files.pythonhosted.org/packages/fa/2a/7f3714cbc6356a0efec525ce7a0613d581072ed6eb53eb7b9754f33db807/blinker-1.7.0-py3-none-any.whl.metadata\n",
            "  Using cached blinker-1.7.0-py3-none-any.whl.metadata (1.9 kB)\n",
            "Requirement already satisfied: cachetools<6,>=4.0 in c:\\python311\\lib\\site-packages (from streamlit->-r common/requirements.txt (line 14)) (5.3.1)\n",
            "Collecting click<9,>=7.0 (from streamlit->-r common/requirements.txt (line 14))\n",
            "  Obtaining dependency information for click<9,>=7.0 from https://files.pythonhosted.org/packages/00/2e/d53fa4befbf2cfa713304affc7ca780ce4fc1fd8710527771b58311a3229/click-8.1.7-py3-none-any.whl.metadata\n",
            "  Using cached click-8.1.7-py3-none-any.whl.metadata (3.0 kB)\n",
            "Requirement already satisfied: importlib-metadata<7,>=1.4 in c:\\python311\\lib\\site-packages (from streamlit->-r common/requirements.txt (line 14)) (6.8.0)\n",
            "Requirement already satisfied: packaging<24,>=16.8 in c:\\users\\davyu\\appdata\\roaming\\python\\python311\\site-packages (from streamlit->-r common/requirements.txt (line 14)) (23.1)\n",
            "Requirement already satisfied: pandas<3,>=1.3.0 in c:\\python311\\lib\\site-packages (from streamlit->-r common/requirements.txt (line 14)) (2.1.1)\n",
            "Requirement already satisfied: protobuf<5,>=3.20 in c:\\python311\\lib\\site-packages (from streamlit->-r common/requirements.txt (line 14)) (4.24.3)\n",
            "Requirement already satisfied: pyarrow>=6.0 in c:\\python311\\lib\\site-packages (from streamlit->-r common/requirements.txt (line 14)) (13.0.0)\n",
            "Requirement already satisfied: python-dateutil<3,>=2.7.3 in c:\\python311\\lib\\site-packages (from streamlit->-r common/requirements.txt (line 14)) (2.8.2)\n",
            "Collecting rich<14,>=10.14.0 (from streamlit->-r common/requirements.txt (line 14))\n",
            "  Obtaining dependency information for rich<14,>=10.14.0 from https://files.pythonhosted.org/packages/be/2a/4e62ff633612f746f88618852a626bbe24226eba5e7ac90e91dcfd6a414e/rich-13.6.0-py3-none-any.whl.metadata\n",
            "  Using cached rich-13.6.0-py3-none-any.whl.metadata (18 kB)\n",
            "Collecting toml<2,>=0.10.1 (from streamlit->-r common/requirements.txt (line 14))\n",
            "  Using cached toml-0.10.2-py2.py3-none-any.whl (16 kB)\n",
            "Requirement already satisfied: typing-extensions<5,>=4.3.0 in c:\\python311\\lib\\site-packages (from streamlit->-r common/requirements.txt (line 14)) (4.7.1)\n",
            "Collecting tzlocal<6,>=1.1 (from streamlit->-r common/requirements.txt (line 14))\n",
            "  Obtaining dependency information for tzlocal<6,>=1.1 from https://files.pythonhosted.org/packages/97/3f/c4c51c55ff8487f2e6d0e618dba917e3c3ee2caae6cf0fbb59c9b1876f2e/tzlocal-5.2-py3-none-any.whl.metadata\n",
            "  Using cached tzlocal-5.2-py3-none-any.whl.metadata (7.8 kB)\n",
            "Collecting validators<1,>=0.2 (from streamlit->-r common/requirements.txt (line 14))\n",
            "  Obtaining dependency information for validators<1,>=0.2 from https://files.pythonhosted.org/packages/3a/0c/785d317eea99c3739821718f118c70537639aa43f96bfa1d83a71f68eaf6/validators-0.22.0-py3-none-any.whl.metadata\n",
            "  Using cached validators-0.22.0-py3-none-any.whl.metadata (4.7 kB)\n",
            "Collecting gitpython!=3.1.19,<4,>=3.0.7 (from streamlit->-r common/requirements.txt (line 14))\n",
            "  Obtaining dependency information for gitpython!=3.1.19,<4,>=3.0.7 from https://files.pythonhosted.org/packages/8d/c4/82b858fb6483dfb5e338123c154d19c043305b01726a67d89532b8f8f01b/GitPython-3.1.40-py3-none-any.whl.metadata\n",
            "  Using cached GitPython-3.1.40-py3-none-any.whl.metadata (12 kB)\n",
            "Collecting pydeck<1,>=0.8.0b4 (from streamlit->-r common/requirements.txt (line 14))\n",
            "  Using cached pydeck-0.8.1b0-py2.py3-none-any.whl (4.8 MB)\n",
            "Requirement already satisfied: tornado<7,>=6.0.3 in c:\\users\\davyu\\appdata\\roaming\\python\\python311\\site-packages (from streamlit->-r common/requirements.txt (line 14)) (6.3.3)\n",
            "Requirement already satisfied: watchdog>=2.1.5 in c:\\python311\\lib\\site-packages (from streamlit->-r common/requirements.txt (line 14)) (3.0.0)\n",
            "Requirement already satisfied: azure-common~=1.1 in c:\\python311\\lib\\site-packages (from azure-ai-formrecognizer->-r common/requirements.txt (line 16)) (1.1.28)\n",
            "Requirement already satisfied: jinja2 in c:\\python311\\lib\\site-packages (from altair<6,>=4.0->streamlit->-r common/requirements.txt (line 14)) (3.1.2)\n",
            "Collecting jsonschema>=3.0 (from altair<6,>=4.0->streamlit->-r common/requirements.txt (line 14))\n",
            "  Obtaining dependency information for jsonschema>=3.0 from https://files.pythonhosted.org/packages/ce/aa/d1bd0b5ec568a903cc3ebcb6b096ab65c1d971c8a01ca3bf3cf788c3c646/jsonschema-4.19.2-py3-none-any.whl.metadata\n",
            "  Using cached jsonschema-4.19.2-py3-none-any.whl.metadata (7.9 kB)\n",
            "Collecting toolz (from altair<6,>=4.0->streamlit->-r common/requirements.txt (line 14))\n",
            "  Using cached toolz-0.12.0-py3-none-any.whl (55 kB)\n",
            "Requirement already satisfied: idna>=2.8 in c:\\python311\\lib\\site-packages (from anyio<4.0->langchain==0.0.316->-r common/requirements.txt (line 1)) (3.4)\n",
            "Requirement already satisfied: sniffio>=1.1 in c:\\python311\\lib\\site-packages (from anyio<4.0->langchain==0.0.316->-r common/requirements.txt (line 1)) (1.3.0)\n",
            "Requirement already satisfied: six>=1.11.0 in c:\\python311\\lib\\site-packages (from azure-core<2.0.0,>=1.23.0->azure-cosmos->-r common/requirements.txt (line 12)) (1.16.0)\n",
            "Requirement already satisfied: colorama in c:\\python311\\lib\\site-packages (from click<9,>=7.0->streamlit->-r common/requirements.txt (line 14)) (0.4.6)\n",
            "Collecting marshmallow<4.0.0,>=3.18.0 (from dataclasses-json<0.7,>=0.5.7->langchain==0.0.316->-r common/requirements.txt (line 1))\n",
            "  Obtaining dependency information for marshmallow<4.0.0,>=3.18.0 from https://files.pythonhosted.org/packages/ed/3c/cebfdcad015240014ff08b883d1c0c427f2ba45ae8c6572851b6ef136cad/marshmallow-3.20.1-py3-none-any.whl.metadata\n",
            "  Using cached marshmallow-3.20.1-py3-none-any.whl.metadata (7.8 kB)\n",
            "Collecting typing-inspect<1,>=0.4.0 (from dataclasses-json<0.7,>=0.5.7->langchain==0.0.316->-r common/requirements.txt (line 1))\n",
            "  Obtaining dependency information for typing-inspect<1,>=0.4.0 from https://files.pythonhosted.org/packages/65/f3/107a22063bf27bdccf2024833d3445f4eea42b2e598abfbd46f6a63b6cb0/typing_inspect-0.9.0-py3-none-any.whl.metadata\n",
            "  Using cached typing_inspect-0.9.0-py3-none-any.whl.metadata (1.5 kB)\n",
            "Collecting gitdb<5,>=4.0.1 (from gitpython!=3.1.19,<4,>=3.0.7->streamlit->-r common/requirements.txt (line 14))\n",
            "  Obtaining dependency information for gitdb<5,>=4.0.1 from https://files.pythonhosted.org/packages/fd/5b/8f0c4a5bb9fd491c277c21eff7ccae71b47d43c4446c9d0c6cff2fe8c2c4/gitdb-4.0.11-py3-none-any.whl.metadata\n",
            "  Using cached gitdb-4.0.11-py3-none-any.whl.metadata (1.2 kB)\n",
            "Requirement already satisfied: zipp>=0.5 in c:\\python311\\lib\\site-packages (from importlib-metadata<7,>=1.4->streamlit->-r common/requirements.txt (line 14)) (3.16.2)\n",
            "Collecting jsonpointer>=1.9 (from jsonpatch<2.0,>=1.33->langchain==0.0.316->-r common/requirements.txt (line 1))\n",
            "  Obtaining dependency information for jsonpointer>=1.9 from https://files.pythonhosted.org/packages/12/f6/0232cc0c617e195f06f810534d00b74d2f348fe71b2118009ad8ad31f878/jsonpointer-2.4-py2.py3-none-any.whl.metadata\n",
            "  Using cached jsonpointer-2.4-py2.py3-none-any.whl.metadata (2.5 kB)\n",
            "Requirement already satisfied: pytz>=2020.1 in c:\\python311\\lib\\site-packages (from pandas<3,>=1.3.0->streamlit->-r common/requirements.txt (line 14)) (2023.3.post1)\n",
            "Requirement already satisfied: tzdata>=2022.1 in c:\\python311\\lib\\site-packages (from pandas<3,>=1.3.0->streamlit->-r common/requirements.txt (line 14)) (2023.3)\n",
            "Collecting annotated-types>=0.4.0 (from pydantic<3,>=1->langchain==0.0.316->-r common/requirements.txt (line 1))\n",
            "  Obtaining dependency information for annotated-types>=0.4.0 from https://files.pythonhosted.org/packages/28/78/d31230046e58c207284c6b2c4e8d96e6d3cb4e52354721b944d3e1ee4aa5/annotated_types-0.6.0-py3-none-any.whl.metadata\n",
            "  Using cached annotated_types-0.6.0-py3-none-any.whl.metadata (12 kB)\n",
            "Collecting pydantic-core==2.10.1 (from pydantic<3,>=1->langchain==0.0.316->-r common/requirements.txt (line 1))\n",
            "  Obtaining dependency information for pydantic-core==2.10.1 from https://files.pythonhosted.org/packages/7c/49/bd863a3d7c5412d739f3a28da0f437f25ccfa92413675c93412e64b812ed/pydantic_core-2.10.1-cp311-none-win_amd64.whl.metadata\n",
            "  Using cached pydantic_core-2.10.1-cp311-none-win_amd64.whl.metadata (6.6 kB)\n",
            "Collecting markdown-it-py>=2.2.0 (from rich<14,>=10.14.0->streamlit->-r common/requirements.txt (line 14))\n",
            "  Obtaining dependency information for markdown-it-py>=2.2.0 from https://files.pythonhosted.org/packages/42/d7/1ec15b46af6af88f19b8e5ffea08fa375d433c998b8a7639e76935c14f1f/markdown_it_py-3.0.0-py3-none-any.whl.metadata\n",
            "  Using cached markdown_it_py-3.0.0-py3-none-any.whl.metadata (6.9 kB)\n",
            "Requirement already satisfied: pygments<3.0.0,>=2.13.0 in c:\\users\\davyu\\appdata\\roaming\\python\\python311\\site-packages (from rich<14,>=10.14.0->streamlit->-r common/requirements.txt (line 14)) (2.16.1)\n",
            "Collecting smmap<6,>=3.0.1 (from gitdb<5,>=4.0.1->gitpython!=3.1.19,<4,>=3.0.7->streamlit->-r common/requirements.txt (line 14))\n",
            "  Obtaining dependency information for smmap<6,>=3.0.1 from https://files.pythonhosted.org/packages/a7/a5/10f97f73544edcdef54409f1d839f6049a0d79df68adbc1ceb24d1aaca42/smmap-5.0.1-py3-none-any.whl.metadata\n",
            "  Using cached smmap-5.0.1-py3-none-any.whl.metadata (4.3 kB)\n",
            "Requirement already satisfied: MarkupSafe>=2.0 in c:\\python311\\lib\\site-packages (from jinja2->altair<6,>=4.0->streamlit->-r common/requirements.txt (line 14)) (2.1.3)\n",
            "Collecting jsonschema-specifications>=2023.03.6 (from jsonschema>=3.0->altair<6,>=4.0->streamlit->-r common/requirements.txt (line 14))\n",
            "  Obtaining dependency information for jsonschema-specifications>=2023.03.6 from https://files.pythonhosted.org/packages/1c/24/83349ac2189cc2435e84da3f69ba3c97314d3c0622628e55171c6798ed80/jsonschema_specifications-2023.7.1-py3-none-any.whl.metadata\n",
            "  Using cached jsonschema_specifications-2023.7.1-py3-none-any.whl.metadata (2.8 kB)\n",
            "Collecting referencing>=0.28.4 (from jsonschema>=3.0->altair<6,>=4.0->streamlit->-r common/requirements.txt (line 14))\n",
            "  Obtaining dependency information for referencing>=0.28.4 from https://files.pythonhosted.org/packages/be/8e/56d6f1e2d591f4d6cbcba446cac4a1b0dc4f584537e2071d9bcee8eeab6b/referencing-0.30.2-py3-none-any.whl.metadata\n",
            "  Using cached referencing-0.30.2-py3-none-any.whl.metadata (2.6 kB)\n",
            "Collecting rpds-py>=0.7.1 (from jsonschema>=3.0->altair<6,>=4.0->streamlit->-r common/requirements.txt (line 14))\n",
            "  Obtaining dependency information for rpds-py>=0.7.1 from https://files.pythonhosted.org/packages/37/9b/fc17b763e82a247cf5f3a52198eae434ea36f340e77529dfa4e9fbc637c2/rpds_py-0.12.0-cp311-none-win_amd64.whl.metadata\n",
            "  Using cached rpds_py-0.12.0-cp311-none-win_amd64.whl.metadata (3.8 kB)\n",
            "Collecting mdurl~=0.1 (from markdown-it-py>=2.2.0->rich<14,>=10.14.0->streamlit->-r common/requirements.txt (line 14))\n",
            "  Using cached mdurl-0.1.2-py3-none-any.whl (10.0 kB)\n",
            "Collecting mypy-extensions>=0.3.0 (from typing-inspect<1,>=0.4.0->dataclasses-json<0.7,>=0.5.7->langchain==0.0.316->-r common/requirements.txt (line 1))\n",
            "  Using cached mypy_extensions-1.0.0-py3-none-any.whl (4.7 kB)\n",
            "Collecting cffi>=1.12 (from cryptography<44,>=0.6->msal==1.*->botframework-connector==4.14.6->botbuilder-integration-aiohttp>=4.14.4->-r common/requirements.txt (line 13))\n",
            "  Obtaining dependency information for cffi>=1.12 from https://files.pythonhosted.org/packages/5a/c7/694814b3757878b29da39bc2f0cf9d20295f4c1e0a0bde7971708d5f23f8/cffi-1.16.0-cp311-cp311-win_amd64.whl.metadata\n",
            "  Using cached cffi-1.16.0-cp311-cp311-win_amd64.whl.metadata (1.5 kB)\n",
            "Requirement already satisfied: oauthlib>=3.0.0 in c:\\python311\\lib\\site-packages (from requests-oauthlib>=0.5.0->msrest==0.6.*->botbuilder-schema==4.14.6->botbuilder-integration-aiohttp>=4.14.4->-r common/requirements.txt (line 13)) (3.2.2)\n",
            "Collecting pycparser (from cffi>=1.12->cryptography<44,>=0.6->msal==1.*->botframework-connector==4.14.6->botbuilder-integration-aiohttp>=4.14.4->-r common/requirements.txt (line 13))\n",
            "  Using cached pycparser-2.21-py2.py3-none-any.whl (118 kB)\n",
            "Using cached langchain-0.0.316-py3-none-any.whl (1.9 MB)\n",
            "Using cached openai-0.28.1-py3-none-any.whl (76 kB)\n",
            "Using cached tiktoken-0.5.1-cp311-cp311-win_amd64.whl (759 kB)\n",
            "Using cached pypdf-3.17.0-py3-none-any.whl (277 kB)\n",
            "Using cached tenacity-8.2.3-py3-none-any.whl (24 kB)\n",
            "Using cached azure_cosmos-4.5.1-py3-none-any.whl (230 kB)\n",
            "Using cached botbuilder_integration_aiohttp-4.14.6-py3-none-any.whl (18 kB)\n",
            "Using cached aiohttp-3.8.5-cp311-cp311-win_amd64.whl (320 kB)\n",
            "Using cached botbuilder_core-4.14.6-py3-none-any.whl (115 kB)\n",
            "Using cached botbuilder_schema-4.14.6-py2.py3-none-any.whl (35 kB)\n",
            "Using cached botframework_connector-4.14.6-py2.py3-none-any.whl (96 kB)\n",
            "Using cached botframework_streaming-4.14.6-py3-none-any.whl (41 kB)\n",
            "Using cached msal-1.25.0-py2.py3-none-any.whl (97 kB)\n",
            "Using cached streamlit-1.28.1-py2.py3-none-any.whl (8.4 MB)\n",
            "Using cached azure_ai_formrecognizer-3.3.2-py3-none-any.whl (300 kB)\n",
            "Using cached altair-5.1.2-py3-none-any.whl (516 kB)\n",
            "Using cached anyio-3.7.1-py3-none-any.whl (80 kB)\n",
            "Using cached azure_core-1.29.5-py3-none-any.whl (192 kB)\n",
            "Using cached blinker-1.7.0-py3-none-any.whl (13 kB)\n",
            "Using cached click-8.1.7-py3-none-any.whl (97 kB)\n",
            "Using cached dataclasses_json-0.6.1-py3-none-any.whl (27 kB)\n",
            "Using cached GitPython-3.1.40-py3-none-any.whl (190 kB)\n",
            "Using cached jsonpatch-1.33-py2.py3-none-any.whl (12 kB)\n",
            "Using cached langsmith-0.0.60-py3-none-any.whl (44 kB)\n",
            "Using cached pydantic-2.4.2-py3-none-any.whl (395 kB)\n",
            "Using cached pydantic_core-2.10.1-cp311-none-win_amd64.whl (2.0 MB)\n",
            "Using cached regex-2023.10.3-cp311-cp311-win_amd64.whl (269 kB)\n",
            "Using cached rich-13.6.0-py3-none-any.whl (239 kB)\n",
            "Using cached tzlocal-5.2-py3-none-any.whl (17 kB)\n",
            "Using cached validators-0.22.0-py3-none-any.whl (26 kB)\n",
            "Using cached annotated_types-0.6.0-py3-none-any.whl (12 kB)\n",
            "Using cached async_timeout-4.0.3-py3-none-any.whl (5.7 kB)\n",
            "Using cached gitdb-4.0.11-py3-none-any.whl (62 kB)\n",
            "Using cached jsonpointer-2.4-py2.py3-none-any.whl (7.8 kB)\n",
            "Using cached jsonschema-4.19.2-py3-none-any.whl (83 kB)\n",
            "Using cached markdown_it_py-3.0.0-py3-none-any.whl (87 kB)\n",
            "Using cached marshmallow-3.20.1-py3-none-any.whl (49 kB)\n",
            "Using cached PyJWT-2.8.0-py3-none-any.whl (22 kB)\n",
            "Using cached typing_inspect-0.9.0-py3-none-any.whl (8.8 kB)\n",
            "Using cached cryptography-41.0.5-cp37-abi3-win_amd64.whl (2.7 MB)\n",
            "Using cached jsonschema_specifications-2023.7.1-py3-none-any.whl (17 kB)\n",
            "Using cached referencing-0.30.2-py3-none-any.whl (25 kB)\n",
            "Using cached rpds_py-0.12.0-cp311-none-win_amd64.whl (186 kB)\n",
            "Using cached smmap-5.0.1-py3-none-any.whl (24 kB)\n",
            "Using cached cffi-1.16.0-cp311-cp311-win_amd64.whl (181 kB)\n",
            "Installing collected packages: validators, tzlocal, toolz, toml, tenacity, tabulate, SQLAlchemy, smmap, rpds-py, regex, python-dotenv, pypdf, PyJWT, pydantic-core, pycparser, mypy-extensions, mdurl, marshmallow, jsonpointer, jsonpickle, isodate, click, blinker, attrs, async-timeout, anyio, annotated-types, aiosignal, typing-inspect, tiktoken, referencing, pydeck, pydantic, markdown-it-py, jsonpatch, gitdb, cffi, azure-core, aiohttp, rich, openai, msrest, langsmith, jsonschema-specifications, gitpython, dataclasses-json, cryptography, azure-cosmos, langchain, jsonschema, botbuilder-schema, azure-ai-formrecognizer, msal, altair, streamlit, botframework-connector, botframework-streaming, botbuilder-core, botbuilder-integration-aiohttp\n",
            "Note: you may need to restart the kernel to use updated packages.\n"
          ]
        },
        {
          "name": "stderr",
          "output_type": "stream",
          "text": [
            "  WARNING: Failed to write executable - trying to use .deleteme logic\n",
            "ERROR: Could not install packages due to an OSError: [WinError 2] The system cannot find the file specified: 'c:\\\\Python311\\\\Scripts\\\\tabulate.exe' -> 'c:\\\\Python311\\\\Scripts\\\\tabulate.exe.deleteme'\n",
            "\n",
            "\n",
            "[notice] A new release of pip is available: 23.2.1 -> 23.3.1\n",
            "[notice] To update, run: python.exe -m pip install --upgrade pip\n"
          ]
        }
      ],
      "source": [
        "%pip install -r common/requirements.txt"
      ]
    },
    {
      "cell_type": "code",
      "execution_count": 13,
      "id": "7e825574",
      "metadata": {},
      "outputs": [
        {
          "name": "stdout",
          "output_type": "stream",
          "text": [
            "Requirement already satisfied: langchain in c:\\users\\davyu\\appdata\\roaming\\python\\python311\\site-packages (0.0.331)\n",
            "Requirement already satisfied: PyYAML>=5.3 in c:\\python311\\lib\\site-packages (from langchain) (6.0.1)\n",
            "Requirement already satisfied: SQLAlchemy<3,>=1.4 in c:\\python311\\lib\\site-packages (from langchain) (2.0.23)\n",
            "Requirement already satisfied: aiohttp<4.0.0,>=3.8.3 in c:\\users\\davyu\\appdata\\roaming\\python\\python311\\site-packages (from langchain) (3.8.6)\n",
            "Requirement already satisfied: anyio<4.0 in c:\\users\\davyu\\appdata\\roaming\\python\\python311\\site-packages (from langchain) (3.7.1)\n",
            "Requirement already satisfied: dataclasses-json<0.7,>=0.5.7 in c:\\users\\davyu\\appdata\\roaming\\python\\python311\\site-packages (from langchain) (0.6.1)\n",
            "Requirement already satisfied: jsonpatch<2.0,>=1.33 in c:\\python311\\lib\\site-packages (from langchain) (1.33)\n",
            "Requirement already satisfied: langsmith<0.1.0,>=0.0.52 in c:\\users\\davyu\\appdata\\roaming\\python\\python311\\site-packages (from langchain) (0.0.60)\n",
            "Requirement already satisfied: numpy<2,>=1 in c:\\python311\\lib\\site-packages (from langchain) (1.26.0)\n",
            "Requirement already satisfied: pydantic<3,>=1 in c:\\users\\davyu\\appdata\\roaming\\python\\python311\\site-packages (from langchain) (2.4.2)\n",
            "Requirement already satisfied: requests<3,>=2 in c:\\python311\\lib\\site-packages (from langchain) (2.31.0)\n",
            "Requirement already satisfied: tenacity<9.0.0,>=8.1.0 in c:\\python311\\lib\\site-packages (from langchain) (8.2.3)\n",
            "Requirement already satisfied: attrs>=17.3.0 in c:\\users\\davyu\\appdata\\roaming\\python\\python311\\site-packages (from aiohttp<4.0.0,>=3.8.3->langchain) (23.1.0)\n",
            "Requirement already satisfied: charset-normalizer<4.0,>=2.0 in c:\\python311\\lib\\site-packages (from aiohttp<4.0.0,>=3.8.3->langchain) (3.2.0)\n",
            "Requirement already satisfied: multidict<7.0,>=4.5 in c:\\python311\\lib\\site-packages (from aiohttp<4.0.0,>=3.8.3->langchain) (6.0.4)\n",
            "Requirement already satisfied: async-timeout<5.0,>=4.0.0a3 in c:\\users\\davyu\\appdata\\roaming\\python\\python311\\site-packages (from aiohttp<4.0.0,>=3.8.3->langchain) (4.0.3)\n",
            "Requirement already satisfied: yarl<2.0,>=1.0 in c:\\python311\\lib\\site-packages (from aiohttp<4.0.0,>=3.8.3->langchain) (1.9.2)\n",
            "Requirement already satisfied: frozenlist>=1.1.1 in c:\\python311\\lib\\site-packages (from aiohttp<4.0.0,>=3.8.3->langchain) (1.4.0)\n",
            "Requirement already satisfied: aiosignal>=1.1.2 in c:\\users\\davyu\\appdata\\roaming\\python\\python311\\site-packages (from aiohttp<4.0.0,>=3.8.3->langchain) (1.3.1)\n",
            "Requirement already satisfied: idna>=2.8 in c:\\python311\\lib\\site-packages (from anyio<4.0->langchain) (3.4)\n",
            "Requirement already satisfied: sniffio>=1.1 in c:\\python311\\lib\\site-packages (from anyio<4.0->langchain) (1.3.0)\n",
            "Requirement already satisfied: marshmallow<4.0.0,>=3.18.0 in c:\\python311\\lib\\site-packages (from dataclasses-json<0.7,>=0.5.7->langchain) (3.20.1)\n",
            "Requirement already satisfied: typing-inspect<1,>=0.4.0 in c:\\python311\\lib\\site-packages (from dataclasses-json<0.7,>=0.5.7->langchain) (0.9.0)\n",
            "Requirement already satisfied: jsonpointer>=1.9 in c:\\python311\\lib\\site-packages (from jsonpatch<2.0,>=1.33->langchain) (2.4)\n",
            "Requirement already satisfied: annotated-types>=0.4.0 in c:\\users\\davyu\\appdata\\roaming\\python\\python311\\site-packages (from pydantic<3,>=1->langchain) (0.6.0)\n",
            "Requirement already satisfied: pydantic-core==2.10.1 in c:\\python311\\lib\\site-packages (from pydantic<3,>=1->langchain) (2.10.1)\n",
            "Requirement already satisfied: typing-extensions>=4.6.1 in c:\\python311\\lib\\site-packages (from pydantic<3,>=1->langchain) (4.7.1)\n",
            "Requirement already satisfied: urllib3<3,>=1.21.1 in c:\\python311\\lib\\site-packages (from requests<3,>=2->langchain) (1.26.16)\n",
            "Requirement already satisfied: certifi>=2017.4.17 in c:\\python311\\lib\\site-packages (from requests<3,>=2->langchain) (2023.7.22)\n",
            "Requirement already satisfied: greenlet!=0.4.17 in c:\\python311\\lib\\site-packages (from SQLAlchemy<3,>=1.4->langchain) (2.0.2)\n",
            "Requirement already satisfied: packaging>=17.0 in c:\\users\\davyu\\appdata\\roaming\\python\\python311\\site-packages (from marshmallow<4.0.0,>=3.18.0->dataclasses-json<0.7,>=0.5.7->langchain) (23.1)\n",
            "Requirement already satisfied: mypy-extensions>=0.3.0 in c:\\python311\\lib\\site-packages (from typing-inspect<1,>=0.4.0->dataclasses-json<0.7,>=0.5.7->langchain) (1.0.0)\n"
          ]
        },
        {
          "name": "stderr",
          "output_type": "stream",
          "text": [
            "\n",
            "[notice] A new release of pip is available: 23.2.1 -> 23.3.1\n",
            "[notice] To update, run: python.exe -m pip install --upgrade pip\n"
          ]
        },
        {
          "name": "stdout",
          "output_type": "stream",
          "text": [
            "Collecting langchain\n",
            "  Obtaining dependency information for langchain from https://files.pythonhosted.org/packages/6d/8d/78e2610ac6e94813cde9c06dfce5911dd0dee6f7702921d47cc95cba4379/langchain-0.0.331-py3-none-any.whl.metadata\n",
            "  Using cached langchain-0.0.331-py3-none-any.whl.metadata (16 kB)\n",
            "Requirement already satisfied: PyYAML>=5.3 in c:\\python311\\lib\\site-packages (from langchain) (6.0.1)\n",
            "Requirement already satisfied: SQLAlchemy<3,>=1.4 in c:\\python311\\lib\\site-packages (from langchain) (2.0.23)\n",
            "Collecting aiohttp<4.0.0,>=3.8.3 (from langchain)\n",
            "  Obtaining dependency information for aiohttp<4.0.0,>=3.8.3 from https://files.pythonhosted.org/packages/2e/9f/9c37b01fc6a37c92f139a4cd937a92f03ebbd75379cfd55e85ca1e571643/aiohttp-3.8.6-cp311-cp311-win_amd64.whl.metadata\n",
            "  Using cached aiohttp-3.8.6-cp311-cp311-win_amd64.whl.metadata (7.9 kB)\n",
            "Collecting anyio<4.0 (from langchain)\n",
            "  Obtaining dependency information for anyio<4.0 from https://files.pythonhosted.org/packages/19/24/44299477fe7dcc9cb58d0a57d5a7588d6af2ff403fdd2d47a246c91a3246/anyio-3.7.1-py3-none-any.whl.metadata\n",
            "  Using cached anyio-3.7.1-py3-none-any.whl.metadata (4.7 kB)\n",
            "Collecting dataclasses-json<0.7,>=0.5.7 (from langchain)\n",
            "  Obtaining dependency information for dataclasses-json<0.7,>=0.5.7 from https://files.pythonhosted.org/packages/21/1f/1cff009cff64420572b9f75b70e4a054095719179a172297dfdd65843162/dataclasses_json-0.6.1-py3-none-any.whl.metadata\n",
            "  Using cached dataclasses_json-0.6.1-py3-none-any.whl.metadata (24 kB)\n",
            "Requirement already satisfied: jsonpatch<2.0,>=1.33 in c:\\python311\\lib\\site-packages (from langchain) (1.33)\n",
            "Collecting langsmith<0.1.0,>=0.0.52 (from langchain)\n",
            "  Obtaining dependency information for langsmith<0.1.0,>=0.0.52 from https://files.pythonhosted.org/packages/7c/6e/feb3dc81de4e12b30df223cffd51e381dd250f6f905d119c619d8b558d00/langsmith-0.0.60-py3-none-any.whl.metadata\n",
            "  Using cached langsmith-0.0.60-py3-none-any.whl.metadata (10 kB)\n",
            "Requirement already satisfied: numpy<2,>=1 in c:\\python311\\lib\\site-packages (from langchain) (1.26.0)\n",
            "Collecting pydantic<3,>=1 (from langchain)\n",
            "  Obtaining dependency information for pydantic<3,>=1 from https://files.pythonhosted.org/packages/73/66/0a72c9fcde42e5650c8d8d5c5c1873b9a3893018020c77ca8eb62708b923/pydantic-2.4.2-py3-none-any.whl.metadata\n",
            "  Using cached pydantic-2.4.2-py3-none-any.whl.metadata (158 kB)\n",
            "Requirement already satisfied: requests<3,>=2 in c:\\python311\\lib\\site-packages (from langchain) (2.31.0)\n",
            "Requirement already satisfied: tenacity<9.0.0,>=8.1.0 in c:\\python311\\lib\\site-packages (from langchain) (8.2.3)\n",
            "Collecting attrs>=17.3.0 (from aiohttp<4.0.0,>=3.8.3->langchain)\n",
            "  Using cached attrs-23.1.0-py3-none-any.whl (61 kB)\n",
            "Requirement already satisfied: charset-normalizer<4.0,>=2.0 in c:\\python311\\lib\\site-packages (from aiohttp<4.0.0,>=3.8.3->langchain) (3.2.0)\n",
            "Requirement already satisfied: multidict<7.0,>=4.5 in c:\\python311\\lib\\site-packages (from aiohttp<4.0.0,>=3.8.3->langchain) (6.0.4)\n",
            "Collecting async-timeout<5.0,>=4.0.0a3 (from aiohttp<4.0.0,>=3.8.3->langchain)\n",
            "  Obtaining dependency information for async-timeout<5.0,>=4.0.0a3 from https://files.pythonhosted.org/packages/a7/fa/e01228c2938de91d47b307831c62ab9e4001e747789d0b05baf779a6488c/async_timeout-4.0.3-py3-none-any.whl.metadata\n",
            "  Using cached async_timeout-4.0.3-py3-none-any.whl.metadata (4.2 kB)\n",
            "Requirement already satisfied: yarl<2.0,>=1.0 in c:\\python311\\lib\\site-packages (from aiohttp<4.0.0,>=3.8.3->langchain) (1.9.2)\n",
            "Requirement already satisfied: frozenlist>=1.1.1 in c:\\python311\\lib\\site-packages (from aiohttp<4.0.0,>=3.8.3->langchain) (1.4.0)\n",
            "Collecting aiosignal>=1.1.2 (from aiohttp<4.0.0,>=3.8.3->langchain)\n",
            "  Using cached aiosignal-1.3.1-py3-none-any.whl (7.6 kB)\n",
            "Requirement already satisfied: idna>=2.8 in c:\\python311\\lib\\site-packages (from anyio<4.0->langchain) (3.4)\n",
            "Requirement already satisfied: sniffio>=1.1 in c:\\python311\\lib\\site-packages (from anyio<4.0->langchain) (1.3.0)\n",
            "Requirement already satisfied: marshmallow<4.0.0,>=3.18.0 in c:\\python311\\lib\\site-packages (from dataclasses-json<0.7,>=0.5.7->langchain) (3.20.1)\n",
            "Requirement already satisfied: typing-inspect<1,>=0.4.0 in c:\\python311\\lib\\site-packages (from dataclasses-json<0.7,>=0.5.7->langchain) (0.9.0)\n",
            "Requirement already satisfied: jsonpointer>=1.9 in c:\\python311\\lib\\site-packages (from jsonpatch<2.0,>=1.33->langchain) (2.4)\n",
            "Collecting annotated-types>=0.4.0 (from pydantic<3,>=1->langchain)\n",
            "  Obtaining dependency information for annotated-types>=0.4.0 from https://files.pythonhosted.org/packages/28/78/d31230046e58c207284c6b2c4e8d96e6d3cb4e52354721b944d3e1ee4aa5/annotated_types-0.6.0-py3-none-any.whl.metadata\n",
            "  Using cached annotated_types-0.6.0-py3-none-any.whl.metadata (12 kB)\n",
            "Requirement already satisfied: pydantic-core==2.10.1 in c:\\python311\\lib\\site-packages (from pydantic<3,>=1->langchain) (2.10.1)\n",
            "Requirement already satisfied: typing-extensions>=4.6.1 in c:\\python311\\lib\\site-packages (from pydantic<3,>=1->langchain) (4.7.1)\n",
            "Requirement already satisfied: urllib3<3,>=1.21.1 in c:\\python311\\lib\\site-packages (from requests<3,>=2->langchain) (1.26.16)\n",
            "Requirement already satisfied: certifi>=2017.4.17 in c:\\python311\\lib\\site-packages (from requests<3,>=2->langchain) (2023.7.22)\n",
            "Requirement already satisfied: greenlet!=0.4.17 in c:\\python311\\lib\\site-packages (from SQLAlchemy<3,>=1.4->langchain) (2.0.2)\n",
            "Requirement already satisfied: packaging>=17.0 in c:\\users\\davyu\\appdata\\roaming\\python\\python311\\site-packages (from marshmallow<4.0.0,>=3.18.0->dataclasses-json<0.7,>=0.5.7->langchain) (23.1)\n",
            "Requirement already satisfied: mypy-extensions>=0.3.0 in c:\\python311\\lib\\site-packages (from typing-inspect<1,>=0.4.0->dataclasses-json<0.7,>=0.5.7->langchain) (1.0.0)\n",
            "Using cached langchain-0.0.331-py3-none-any.whl (2.0 MB)\n",
            "Using cached aiohttp-3.8.6-cp311-cp311-win_amd64.whl (322 kB)\n",
            "Using cached anyio-3.7.1-py3-none-any.whl (80 kB)\n",
            "Using cached dataclasses_json-0.6.1-py3-none-any.whl (27 kB)\n",
            "Using cached langsmith-0.0.60-py3-none-any.whl (44 kB)\n",
            "Using cached pydantic-2.4.2-py3-none-any.whl (395 kB)\n",
            "Using cached annotated_types-0.6.0-py3-none-any.whl (12 kB)\n",
            "Using cached async_timeout-4.0.3-py3-none-any.whl (5.7 kB)\n",
            "Installing collected packages: attrs, async-timeout, anyio, annotated-types, aiosignal, pydantic, dataclasses-json, aiohttp, langsmith, langchain\n",
            "Successfully installed aiohttp-3.8.6 aiosignal-1.3.1 annotated-types-0.6.0 anyio-3.7.1 async-timeout-4.0.3 attrs-23.1.0 dataclasses-json-0.6.1 langchain-0.0.331 langsmith-0.0.60 pydantic-2.4.2\n"
          ]
        },
        {
          "name": "stderr",
          "output_type": "stream",
          "text": [
            "\n",
            "[notice] A new release of pip is available: 23.2.1 -> 23.3.1\n",
            "[notice] To update, run: python.exe -m pip install --upgrade pip\n"
          ]
        }
      ],
      "source": [
        "!pip install langchain --user"
      ]
    },
    {
      "cell_type": "code",
      "execution_count": 19,
      "id": "ceb21d58",
      "metadata": {},
      "outputs": [
        {
          "name": "stdout",
          "output_type": "stream",
          "text": [
            "Collecting dotenv\n",
            "  Using cached dotenv-0.0.5.tar.gz (2.4 kB)\n",
            "  Preparing metadata (setup.py): started\n",
            "  Preparing metadata (setup.py): finished with status 'error'\n",
            "Note: you may need to restart the kernel to use updated packages.\n"
          ]
        },
        {
          "name": "stderr",
          "output_type": "stream",
          "text": [
            "  error: subprocess-exited-with-error\n",
            "  \n",
            "  × python setup.py egg_info did not run successfully.\n",
            "  │ exit code: 1\n",
            "  ╰─> [70 lines of output]\n",
            "      c:\\Python311\\Lib\\site-packages\\setuptools\\installer.py:27: SetuptoolsDeprecationWarning: setuptools.installer is deprecated. Requirements should be satisfied by a PEP 517 installer.\n",
            "        warnings.warn(\n",
            "        error: subprocess-exited-with-error\n",
            "      \n",
            "        Ã— python setup.py egg_info did not run successfully.\n",
            "        â”‚ exit code: 1\n",
            "        â•°â”€> [17 lines of output]\n",
            "            Traceback (most recent call last):\n",
            "              File \"<string>\", line 2, in <module>\n",
            "              File \"<pip-setuptools-caller>\", line 14, in <module>\n",
            "              File \"C:\\Users\\davyu\\AppData\\Local\\Temp\\pip-wheel-qtvh7_vc\\distribute_3dcc99aca20a4ed680789ca2221dd852\\setuptools\\__init__.py\", line 2, in <module>\n",
            "                from setuptools.extension import Extension, Library\n",
            "              File \"C:\\Users\\davyu\\AppData\\Local\\Temp\\pip-wheel-qtvh7_vc\\distribute_3dcc99aca20a4ed680789ca2221dd852\\setuptools\\extension.py\", line 5, in <module>\n",
            "                from setuptools.dist import _get_unpatched\n",
            "              File \"C:\\Users\\davyu\\AppData\\Local\\Temp\\pip-wheel-qtvh7_vc\\distribute_3dcc99aca20a4ed680789ca2221dd852\\setuptools\\dist.py\", line 7, in <module>\n",
            "                from setuptools.command.install import install\n",
            "              File \"C:\\Users\\davyu\\AppData\\Local\\Temp\\pip-wheel-qtvh7_vc\\distribute_3dcc99aca20a4ed680789ca2221dd852\\setuptools\\command\\__init__.py\", line 8, in <module>\n",
            "                from setuptools.command import install_scripts\n",
            "              File \"C:\\Users\\davyu\\AppData\\Local\\Temp\\pip-wheel-qtvh7_vc\\distribute_3dcc99aca20a4ed680789ca2221dd852\\setuptools\\command\\install_scripts.py\", line 3, in <module>\n",
            "                from pkg_resources import Distribution, PathMetadata, ensure_directory\n",
            "              File \"C:\\Users\\davyu\\AppData\\Local\\Temp\\pip-wheel-qtvh7_vc\\distribute_3dcc99aca20a4ed680789ca2221dd852\\pkg_resources.py\", line 1518, in <module>\n",
            "                register_loader_type(importlib_bootstrap.SourceFileLoader, DefaultProvider)\n",
            "                                     ^^^^^^^^^^^^^^^^^^^^^^^^^^^^^^^^^^^^\n",
            "            AttributeError: module 'importlib._bootstrap' has no attribute 'SourceFileLoader'\n",
            "            [end of output]\n",
            "      \n",
            "        note: This error originates from a subprocess, and is likely not a problem with pip.\n",
            "      error: metadata-generation-failed\n",
            "      \n",
            "      Ã— Encountered error while generating package metadata.\n",
            "      â•°â”€> See above for output.\n",
            "      \n",
            "      note: This is an issue with the package mentioned above, not pip.\n",
            "      hint: See above for details.\n",
            "      Traceback (most recent call last):\n",
            "        File \"c:\\Python311\\Lib\\site-packages\\setuptools\\installer.py\", line 82, in fetch_build_egg\n",
            "          subprocess.check_call(cmd)\n",
            "        File \"c:\\Python311\\Lib\\subprocess.py\", line 413, in check_call\n",
            "          raise CalledProcessError(retcode, cmd)\n",
            "      subprocess.CalledProcessError: Command '['c:\\\\Python311\\\\python.exe', '-m', 'pip', '--disable-pip-version-check', 'wheel', '--no-deps', '-w', 'C:\\\\Users\\\\davyu\\\\AppData\\\\Local\\\\Temp\\\\tmp3ey08gg1', '--quiet', 'distribute']' returned non-zero exit status 1.\n",
            "      \n",
            "      The above exception was the direct cause of the following exception:\n",
            "      \n",
            "      Traceback (most recent call last):\n",
            "        File \"<string>\", line 2, in <module>\n",
            "        File \"<pip-setuptools-caller>\", line 34, in <module>\n",
            "        File \"C:\\Users\\davyu\\AppData\\Local\\Temp\\pip-install-6h_gsxhx\\dotenv_d69e9ba2bfad49b2983b1e436ec19609\\setup.py\", line 13, in <module>\n",
            "          setup(name='dotenv',\n",
            "        File \"c:\\Python311\\Lib\\site-packages\\setuptools\\__init__.py\", line 86, in setup\n",
            "          _install_setup_requires(attrs)\n",
            "        File \"c:\\Python311\\Lib\\site-packages\\setuptools\\__init__.py\", line 80, in _install_setup_requires\n",
            "          dist.fetch_build_eggs(dist.setup_requires)\n",
            "        File \"c:\\Python311\\Lib\\site-packages\\setuptools\\dist.py\", line 875, in fetch_build_eggs\n",
            "          resolved_dists = pkg_resources.working_set.resolve(\n",
            "                           ^^^^^^^^^^^^^^^^^^^^^^^^^^^^^^^^^^\n",
            "        File \"c:\\Python311\\Lib\\site-packages\\pkg_resources\\__init__.py\", line 789, in resolve\n",
            "          dist = best[req.key] = env.best_match(\n",
            "                                 ^^^^^^^^^^^^^^^\n",
            "        File \"c:\\Python311\\Lib\\site-packages\\pkg_resources\\__init__.py\", line 1075, in best_match\n",
            "          return self.obtain(req, installer)\n",
            "                 ^^^^^^^^^^^^^^^^^^^^^^^^^^^\n",
            "        File \"c:\\Python311\\Lib\\site-packages\\pkg_resources\\__init__.py\", line 1087, in obtain\n",
            "          return installer(requirement)\n",
            "                 ^^^^^^^^^^^^^^^^^^^^^^\n",
            "        File \"c:\\Python311\\Lib\\site-packages\\setuptools\\dist.py\", line 945, in fetch_build_egg\n",
            "          return fetch_build_egg(self, req)\n",
            "                 ^^^^^^^^^^^^^^^^^^^^^^^^^^\n",
            "        File \"c:\\Python311\\Lib\\site-packages\\setuptools\\installer.py\", line 84, in fetch_build_egg\n",
            "          raise DistutilsError(str(e)) from e\n",
            "      distutils.errors.DistutilsError: Command '['c:\\\\Python311\\\\python.exe', '-m', 'pip', '--disable-pip-version-check', 'wheel', '--no-deps', '-w', 'C:\\\\Users\\\\davyu\\\\AppData\\\\Local\\\\Temp\\\\tmp3ey08gg1', '--quiet', 'distribute']' returned non-zero exit status 1.\n",
            "      [end of output]\n",
            "  \n",
            "  note: This error originates from a subprocess, and is likely not a problem with pip.\n",
            "error: metadata-generation-failed\n",
            "\n",
            "× Encountered error while generating package metadata.\n",
            "╰─> See above for output.\n",
            "\n",
            "note: This is an issue with the package mentioned above, not pip.\n",
            "hint: See above for details.\n",
            "\n",
            "[notice] A new release of pip is available: 23.2.1 -> 23.3.1\n",
            "[notice] To update, run: python.exe -m pip install --upgrade pip\n"
          ]
        }
      ],
      "source": [
        "%pip install dotenv --user"
      ]
    },
    {
      "cell_type": "code",
      "execution_count": 18,
      "id": "c1fb79a3-4856-4721-988c-112813690a90",
      "metadata": {
        "gather": {
          "logged": 1697489458058
        }
      },
      "outputs": [
        {
          "ename": "ModuleNotFoundError",
          "evalue": "No module named 'dotenv'",
          "output_type": "error",
          "traceback": [
            "\u001b[1;31m---------------------------------------------------------------------------\u001b[0m",
            "\u001b[1;31mModuleNotFoundError\u001b[0m                       Traceback (most recent call last)",
            "\u001b[1;32mc:\\Users\\davyu\\Projects\\NewAOAIVBD\\Azure-OpenAI-Accelerator-Federal\\07-SQLDB_QA.ipynb Cell 6\u001b[0m line \u001b[0;36m1\n\u001b[0;32m     <a href='vscode-notebook-cell:/c%3A/Users/davyu/Projects/NewAOAIVBD/Azure-OpenAI-Accelerator-Federal/07-SQLDB_QA.ipynb#W2sZmlsZQ%3D%3D?line=10'>11</a>\u001b[0m \u001b[39mfrom\u001b[39;00m \u001b[39mcommon\u001b[39;00m\u001b[39m.\u001b[39;00m\u001b[39mprompts\u001b[39;00m \u001b[39mimport\u001b[39;00m MSSQL_PROMPT, MSSQL_AGENT_PREFIX, MSSQL_AGENT_FORMAT_INSTRUCTIONS\n\u001b[0;32m     <a href='vscode-notebook-cell:/c%3A/Users/davyu/Projects/NewAOAIVBD/Azure-OpenAI-Accelerator-Federal/07-SQLDB_QA.ipynb#W2sZmlsZQ%3D%3D?line=12'>13</a>\u001b[0m \u001b[39mfrom\u001b[39;00m \u001b[39mIPython\u001b[39;00m\u001b[39m.\u001b[39;00m\u001b[39mdisplay\u001b[39;00m \u001b[39mimport\u001b[39;00m Markdown, HTML, display  \n\u001b[1;32m---> <a href='vscode-notebook-cell:/c%3A/Users/davyu/Projects/NewAOAIVBD/Azure-OpenAI-Accelerator-Federal/07-SQLDB_QA.ipynb#W2sZmlsZQ%3D%3D?line=14'>15</a>\u001b[0m \u001b[39mfrom\u001b[39;00m \u001b[39mdotenv\u001b[39;00m \u001b[39mimport\u001b[39;00m load_dotenv\n\u001b[0;32m     <a href='vscode-notebook-cell:/c%3A/Users/davyu/Projects/NewAOAIVBD/Azure-OpenAI-Accelerator-Federal/07-SQLDB_QA.ipynb#W2sZmlsZQ%3D%3D?line=15'>16</a>\u001b[0m load_dotenv(\u001b[39m\"\u001b[39m\u001b[39mcredentials.env\u001b[39m\u001b[39m\"\u001b[39m, override\u001b[39m=\u001b[39m\u001b[39mTrue\u001b[39;00m)\n\u001b[0;32m     <a href='vscode-notebook-cell:/c%3A/Users/davyu/Projects/NewAOAIVBD/Azure-OpenAI-Accelerator-Federal/07-SQLDB_QA.ipynb#W2sZmlsZQ%3D%3D?line=18'>19</a>\u001b[0m \u001b[39mdef\u001b[39;00m \u001b[39mprintmd\u001b[39m(string):\n",
            "\u001b[1;31mModuleNotFoundError\u001b[0m: No module named 'dotenv'"
          ]
        }
      ],
      "source": [
        "import os\n",
        "import pandas as pd\n",
        "import pyodbc\n",
        "from langchain.chat_models import AzureChatOpenAI\n",
        "from langchain.agents import create_sql_agent\n",
        "from langchain.agents.agent_toolkits import SQLDatabaseToolkit\n",
        "from langchain.sql_database import SQLDatabase\n",
        "from langchain.agents import AgentExecutor\n",
        "from langchain.callbacks.manager import CallbackManager\n",
        "\n",
        "from common.prompts import MSSQL_PROMPT, MSSQL_AGENT_PREFIX, MSSQL_AGENT_FORMAT_INSTRUCTIONS\n",
        "\n",
        "from IPython.display import Markdown, HTML, display  \n",
        "\n",
        "from dotenv import load_dotenv\n",
        "load_dotenv(\"credentials.env\", override=True)\n",
        "\n",
        "\n",
        "def printmd(string):\n",
        "    display(Markdown(string))"
      ]
    },
    {
      "cell_type": "code",
      "execution_count": null,
      "id": "258a6e99-2d4f-4147-b8ee-c64c85296181",
      "metadata": {
        "gather": {
          "logged": 1697489461158
        }
      },
      "outputs": [],
      "source": [
        "# Set the ENV variables that Langchain needs to connect to Azure OpenAI\n",
        "os.environ[\"OPENAI_API_BASE\"] = os.environ[\"AZURE_OPENAI_GPT4_ENDPOINT\"]\n",
        "os.environ[\"OPENAI_API_KEY\"] = os.environ[\"AZURE_OPENAI_GPT4_KEY\"]\n",
        "os.environ[\"OPENAI_API_VERSION\"] = os.environ[\"AZURE_OPENAI_API_VERSION\"]\n",
        "os.environ[\"OPENAI_API_TYPE\"] = \"azure\"\n",
        "\n",
        "MODEL = os.environ[ \"AZURE_OPENAI_GPT4_DEPLOYMENT\" ]"
      ]
    },
    {
      "cell_type": "markdown",
      "id": "1e8e0b32-a6b5-4b1c-943d-e57b737213fa",
      "metadata": {},
      "source": [
        "# Install MS SQL DB driver in your machine"
      ]
    },
    {
      "cell_type": "markdown",
      "id": "9a353df6-0966-4e43-a914-6a2856eb140a",
      "metadata": {},
      "source": [
        "We need the driver installed on this compute in order to talk to the SQL DB, so run the below cell once<br>\n",
        "Reference: https://learn.microsoft.com/en-us/sql/connect/odbc/linux-mac/installing-the-microsoft-odbc-driver-for-sql-server?view=sql-server-ver16&tabs=ubuntu18-install%2Calpine17-install%2Cdebian8-install%2Credhat7-13-install%2Crhel7-offline"
      ]
    },
    {
      "cell_type": "code",
      "execution_count": null,
      "id": "65fbffc7-e149-4eb3-a4db-9f114b06f205",
      "metadata": {},
      "outputs": [],
      "source": [
        "# !sudo ./download_odbc_driver.sh"
      ]
    },
    {
      "cell_type": "markdown",
      "id": "35e30fa1-877d-4d3b-80b0-e17459c1e4f4",
      "metadata": {},
      "source": [
        "# Load Azure SQL DB with the Covid Tracking CSV Data"
      ]
    },
    {
      "cell_type": "markdown",
      "id": "b4352dca-7159-4e41-983d-2c6951cf18db",
      "metadata": {},
      "source": [
        "The Azure SQL Database is currently empty, so we need to fill it up with data. Let's use the same data on the Covid CSV filed we used on the prior Notebook, that way we can compare results and methods. \n",
        "For this, you will need to type below the credentials you used at creation time."
      ]
    },
    {
      "cell_type": "code",
      "execution_count": null,
      "id": "26739d89-e075-4098-ab38-92cccf9f9425",
      "metadata": {
        "gather": {
          "logged": 1697489530091
        }
      },
      "outputs": [],
      "source": [
        "from sqlalchemy import create_engine\n",
        "from sqlalchemy.engine.url import URL\n",
        "\n",
        "db_config = {\n",
        "                'drivername': 'mssql+pyodbc',\n",
        "                'username': os.environ[\"SQL_SERVER_USERNAME\"] +'@'+ os.environ[\"SQL_SERVER_NAME\"],\n",
        "                'password': os.environ[\"SQL_SERVER_PASSWORD\"],\n",
        "                'host': os.environ[\"SQL_SERVER_NAME\"],\n",
        "                'port': 1433,\n",
        "                'database': os.environ[\"SQL_SERVER_DATABASE\"],\n",
        "                'query': {'driver': 'ODBC Driver 17 for SQL Server'}\n",
        "            }\n",
        "\n",
        "# Create a URL object for connecting to the database\n",
        "db_url = URL.create(**db_config)\n",
        "\n",
        "# Print the resulting URL string\n",
        "# print(db_url)\n",
        "\n",
        "# Connect to the Azure SQL Database using the URL string\n",
        "engine = create_engine(db_url)\n",
        "\n",
        "# Test the connection\n",
        "try:\n",
        "    conn = engine.connect()\n",
        "    print(\"Connection successful!\")\n",
        "    result = engine.execute(\"SELECT @@Version\")\n",
        "    for row in result:\n",
        "        print(row)\n",
        "    conn.close()\n",
        "    \n",
        "except OperationalError:\n",
        "    print(\"Connection failed.\")"
      ]
    },
    {
      "cell_type": "code",
      "execution_count": null,
      "id": "acaf202c-33a1-4105-b506-c26f2080c1d8",
      "metadata": {
        "gather": {
          "logged": 1697489559085
        }
      },
      "outputs": [],
      "source": [
        "# Read CSV file into a pandas dataframe\n",
        "csv_path = \"./data/all-states-history.csv\"\n",
        "df = pd.read_csv(csv_path).fillna(value = 0)\n",
        "\n",
        "# Infer column names and data types\n",
        "column_names = df.columns.tolist()\n",
        "column_types = df.dtypes.to_dict()\n",
        "\n",
        "# Generate SQL statement to create table\n",
        "table_name = 'covidtracking'\n",
        "\n",
        "create_table_sql = f\"CREATE TABLE {table_name} (\"\n",
        "for name, dtype in column_types.items():\n",
        "    if dtype == 'object':\n",
        "        create_table_sql += f\"{name} VARCHAR(MAX), \"\n",
        "    elif dtype == 'int64':\n",
        "        create_table_sql += f\"{name} INT, \"\n",
        "    elif dtype == 'float64':\n",
        "        create_table_sql += f\"{name} FLOAT, \"\n",
        "    elif dtype == 'bool':\n",
        "        create_table_sql += f\"{name} BIT, \"\n",
        "    elif dtype == 'datetime64[ns]':\n",
        "        create_table_sql += f\"{name} DATETIME, \"\n",
        "create_table_sql = create_table_sql[:-2] + \")\"\n",
        "\n",
        "try:\n",
        "    #Createse the table in Azure SQL\n",
        "    engine.execute(create_table_sql)\n",
        "    print(\"Table\",table_name,\"succesfully created\")\n",
        "    # Insert data into SQL Database\n",
        "    lower = 0\n",
        "    upper = 1000\n",
        "    limit = df.shape[0]\n",
        "\n",
        "    while lower < limit:\n",
        "        df[lower:upper].to_sql(table_name, con=engine, if_exists='append', index=False)\n",
        "        print(\"rows:\", lower, \"-\", upper, \"inserted\")\n",
        "        lower = upper\n",
        "        upper = min(upper + 1000, limit)\n",
        "\n",
        "except Exception as e:\n",
        "    print(e)"
      ]
    },
    {
      "cell_type": "markdown",
      "id": "33ad46af-11a4-41a6-94af-15509fd9e16c",
      "metadata": {},
      "source": [
        "# Query with LLM"
      ]
    },
    {
      "cell_type": "markdown",
      "id": "ea2ef524-565a-4f28-9955-fce0d01bbe21",
      "metadata": {},
      "source": [
        "**Note**: We are here using Azure SQL, however the same code will work with Synapse, SQL Managed instance, or any other SQL engine. You just need to provide the right ENV variables and it will connect succesfully."
      ]
    },
    {
      "cell_type": "code",
      "execution_count": null,
      "id": "7faef3c0-8166-4f3b-a5e3-d30acfd65fd3",
      "metadata": {
        "gather": {
          "logged": 1697489576346
        }
      },
      "outputs": [],
      "source": [
        "# Create or LLM Langchain object using GPT-4 deployment\n",
        "# Again we need GPT-4. It is necesary in the use of Agents. GPT-35-Turbo will make many mistakes.\n",
        "llm = AzureChatOpenAI(deployment_name=MODEL, temperature=0, max_tokens=500)"
      ]
    },
    {
      "cell_type": "code",
      "execution_count": null,
      "id": "6cbe650c-9e0a-4209-9595-de13f2f1ee0a",
      "metadata": {
        "gather": {
          "logged": 1697489585220
        }
      },
      "outputs": [],
      "source": [
        "# Let's create the db object\n",
        "db = SQLDatabase.from_uri(db_url)"
      ]
    },
    {
      "cell_type": "code",
      "execution_count": null,
      "id": "ae80c022-415e-40d1-b205-1744a3164d70",
      "metadata": {
        "gather": {
          "logged": 1697489588168
        }
      },
      "outputs": [],
      "source": [
        "# Natural Language question (query)\n",
        "QUESTION = \"How may patients were hospitalized during July 2020 in Texas, and nationwide as the total of all states? Use the hospitalizedIncrease column\""
      ]
    },
    {
      "cell_type": "markdown",
      "id": "95052aba-d0c5-4883-a0b6-70c20e236b6a",
      "metadata": {},
      "source": [
        "### SQL Agent"
      ]
    },
    {
      "cell_type": "markdown",
      "id": "eb8b1352-d6d7-4319-a0b8-ae7b9c2fd234",
      "metadata": {},
      "source": [
        "Let's use an agent now and see how ReAct framework solves the problem."
      ]
    },
    {
      "cell_type": "code",
      "execution_count": null,
      "id": "2b51fb36-68b5-4770-b5f1-c042a08e0a0f",
      "metadata": {
        "gather": {
          "logged": 1697489593159
        }
      },
      "outputs": [],
      "source": [
        "toolkit = SQLDatabaseToolkit(db=db, llm=llm)\n",
        "\n",
        "agent_executor = create_sql_agent(\n",
        "    prefix=MSSQL_AGENT_PREFIX,\n",
        "    format_instructions = MSSQL_AGENT_FORMAT_INSTRUCTIONS,\n",
        "    llm=llm,\n",
        "    toolkit=toolkit,\n",
        "    top_k=30,\n",
        "    verbose=True\n",
        ")"
      ]
    },
    {
      "cell_type": "code",
      "execution_count": null,
      "id": "21c6c6f5-4a14-403f-a1d0-fe6b0c34a563",
      "metadata": {
        "gather": {
          "logged": 1697489596388
        }
      },
      "outputs": [],
      "source": [
        "# As we know by now, Agents use expert/tools. Let's see which are the tools for this SQL Agent\n",
        "agent_executor.agent.allowed_tools"
      ]
    },
    {
      "cell_type": "code",
      "execution_count": null,
      "id": "1cae3488-5334-4fbb-ab97-a710af07f966",
      "metadata": {
        "gather": {
          "logged": 1697489602220
        }
      },
      "outputs": [],
      "source": [
        "# And let's see now our clever crafted prompt\n",
        "printmd(agent_executor.agent.llm_chain.prompt.template)"
      ]
    },
    {
      "cell_type": "code",
      "execution_count": null,
      "id": "6d7bb8cf-8661-4174-8185-c64b4b20670d",
      "metadata": {
        "gather": {
          "logged": 1697489637068
        }
      },
      "outputs": [],
      "source": [
        "for i in range(2):\n",
        "    try:\n",
        "        response = agent_executor.run(QUESTION) \n",
        "        break\n",
        "    except Exception as e:\n",
        "        response = str(e)\n",
        "        continue"
      ]
    },
    {
      "cell_type": "code",
      "execution_count": null,
      "id": "f23d2135-2199-474e-ae83-455aefc9b93b",
      "metadata": {
        "gather": {
          "logged": 1697489647638
        }
      },
      "outputs": [],
      "source": [
        "printmd(response)"
      ]
    },
    {
      "cell_type": "markdown",
      "id": "cfef208f-321c-490e-a50e-e92602daf125",
      "metadata": {},
      "source": [
        "**IMPORTANT NOTE**: If you don't specify the column name on the question, runing the above cell multiple times will yield diferent results some times. <br>\n",
        "The reason is:\n",
        "The column names are ambiguous, hence it is hard even for Humans to discern what are the right columns to use"
      ]
    },
    {
      "cell_type": "markdown",
      "id": "56cbc405-26e2-471e-9626-2a0df07f5ddc",
      "metadata": {},
      "source": [
        "# Summary"
      ]
    },
    {
      "cell_type": "markdown",
      "id": "7381ea5f-7269-4e1f-8b0c-1e2c04bd84c0",
      "metadata": {},
      "source": [
        "In this notebook, we achieved our goal of Asking a Question in natural language to a dataset located on a SQL Database.  We did this by using purely prompt engineering (Langchain does it for us) and the cognitive power of GPT-4.\n",
        "\n",
        "This process shows why it is NOT necessary to move the data from its original source as long as the source has an API and a common language we can use to interface with. GPT-4 has been trained on the whole public Github corpus, so it can pretty much understand most of the coding and database query languages that exists out there. "
      ]
    },
    {
      "cell_type": "markdown",
      "id": "02073623-91b4-40d6-8eaf-cb6d9c6a7a9a",
      "metadata": {},
      "source": [
        "# NEXT\n",
        "\n",
        "The Next Notebook will show you how to create a custom REACT agent that connects to the internet using BING SEARCH API to answer questions grounded on search results with citations. Basically a clone of Bing Chat."
      ]
    }
  ],
  "metadata": {
    "kernel_info": {
      "name": "python310-sdkv2"
    },
    "kernelspec": {
      "display_name": "Python 3",
      "language": "python",
      "name": "python3"
    },
    "language_info": {
      "codemirror_mode": {
        "name": "ipython",
        "version": 3
      },
      "file_extension": ".py",
      "mimetype": "text/x-python",
      "name": "python",
      "nbconvert_exporter": "python",
      "pygments_lexer": "ipython3",
      "version": "3.11.6"
    },
    "microsoft": {
      "ms_spell_check": {
        "ms_spell_check_language": "en"
      }
    },
    "nteract": {
      "version": "nteract-front-end@1.0.0"
    }
  },
  "nbformat": 4,
  "nbformat_minor": 5
}
